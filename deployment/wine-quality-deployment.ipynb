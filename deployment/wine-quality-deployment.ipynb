{
 "cells": [
  {
   "cell_type": "markdown",
   "metadata": {},
   "source": [
    "# Wine Quality Model Deployment\n",
    "After analysing the given datasets we have computed the accuracies, we have chosen the highest accuracy and fitted a best model.\n",
    "Now we have to deploy these models in production so that users can supply wine parameters and obtain an estimated quality prediction.\n",
    "\n",
    "For this we will be developing a Flask application. Note that the code and models might need to be downloaded and deployed separately in Heroku or your local machine.\n",
    "\n",
    "You cannot run this app through Kaggle. One needs to download the entire dataset,code required for building, saving the model on to your local system.You also need to create a Flask App for deploying your model and prediction.\n",
    "\n",
    "Complete code segment has been uploaded onto github.Check the github link\n"
   ]
  },
  {
   "cell_type": "code",
   "execution_count": 1,
   "metadata": {},
   "outputs": [],
   "source": [
    "import pandas as pd\n",
    "from flask import Flask, request, render_template\n",
    "import pickle"
   ]
  },
  {
   "cell_type": "markdown",
   "metadata": {},
   "source": [
    "### Load the Linear Regression  Red and White Wine Models"
   ]
  },
  {
   "cell_type": "code",
   "execution_count": 2,
   "metadata": {
    "execution": {
     "iopub.execute_input": "2021-12-08T08:50:28.536787Z",
     "iopub.status.busy": "2021-12-08T08:50:28.536112Z",
     "iopub.status.idle": "2021-12-08T08:50:28.547373Z",
     "shell.execute_reply": "2021-12-08T08:50:28.546392Z",
     "shell.execute_reply.started": "2021-12-08T08:50:28.536726Z"
    }
   },
   "outputs": [
    {
     "name": "stdout",
     "output_type": "stream",
     "text": [
      "Creating a flask app for __main__\n"
     ]
    }
   ],
   "source": [
    "print(f'Creating a flask app for {__name__}')\n",
    "app = Flask(__name__)"
   ]
  },
  {
   "cell_type": "code",
   "execution_count": 3,
   "metadata": {},
   "outputs": [],
   "source": [
    "def load_model(filename):\n",
    "    pklfile = open(filename, 'rb')\n",
    "    lr_model = pickle.load(pklfile)\n",
    "    pklfile.close()\n",
    "    return lr_model"
   ]
  },
  {
   "cell_type": "code",
   "execution_count": 4,
   "metadata": {
    "scrolled": false
   },
   "outputs": [],
   "source": [
    "lr_model_white = load_model(\"../models/white_wine_model.pkl\")\n",
    "lr_model_red = load_model(\"../models/red_wine_model.pkl\")"
   ]
  },
  {
   "cell_type": "markdown",
   "metadata": {},
   "source": [
    "### Create a flask app"
   ]
  },
  {
   "cell_type": "code",
   "execution_count": 5,
   "metadata": {},
   "outputs": [
    {
     "name": "stdout",
     "output_type": "stream",
     "text": [
      "Creating a flask app for __main__\n"
     ]
    }
   ],
   "source": [
    "print(f'Creating a flask app for {__name__}')\n",
    "app = Flask(__name__)"
   ]
  },
  {
   "cell_type": "markdown",
   "metadata": {},
   "source": [
    "### Establish Routes for Red and White Wine Prediction"
   ]
  },
  {
   "cell_type": "code",
   "execution_count": 6,
   "metadata": {
    "execution": {
     "iopub.execute_input": "2021-12-08T08:50:28.549394Z",
     "iopub.status.busy": "2021-12-08T08:50:28.548780Z",
     "iopub.status.idle": "2021-12-08T08:50:28.570311Z",
     "shell.execute_reply": "2021-12-08T08:50:28.569231Z",
     "shell.execute_reply.started": "2021-12-08T08:50:28.549347Z"
    }
   },
   "outputs": [],
   "source": [
    "@app.route('/red_input')\n",
    "def red_input():\n",
    "    return render_template('red_wine_input.html')\n",
    "\n",
    "@app.route('/red_predict', methods =[\"GET\",\"POST\"])\n",
    "def red_predict():\n",
    "   \n",
    "    if request.method == 'GET':\n",
    "        va = request.args.get('va')\n",
    "        sul = request.args.get('sul')\n",
    "        alc =request.args.get('alc')\n",
    "\n",
    "        data_red_wine = pd.DataFrame([[va,sul,alc]] )    \n",
    "        arr_red_predict = lr_model_red.predict(data_red_wine)[0]\n",
    "        arr_red_predict = int(round(arr_red_predict,0))\n",
    "        \n",
    "        return render_template('red_wine_quality_predict.html', va=va, sul=sul, alc=alc, arr_red_predict=arr_red_predict) ### --> HTML response\n",
    "        \n",
    "    return \"Unsupported request method,{}\".format(request.method),400\n",
    "\n",
    "\n",
    "@app.route('/white_input')\n",
    "def white_input():\n",
    "    return render_template('white_wine_input.html')\n",
    "\n",
    "@app.route('/white_predict',methods =[\"GET\",\"POST\"])\n",
    "def white_predict():\n",
    "    \n",
    "    if request.method == 'GET':\n",
    "        fix_acid = request.args.get('fix_acid')         \n",
    "        vol_acid = request.args.get('vol_acid')\n",
    "        citric_acid = request.args.get('citric_acid')\n",
    "        resi_sugar  = request.args.get('resi_sugar')\n",
    "        chlorides = request.args.get('chlorides')\n",
    "        free_sul_o2 = request.args.get('free_sul_o2')\n",
    "        total_sul_o2 = request.args.get('total_sul_o2')\n",
    "        density = request.args.get('density')\n",
    "        pH = request.args.get('pH')\n",
    "        sulphates = request.args.get('sulphates')\n",
    "        alcohol = request.args.get('alcohol')\n",
    "        \n",
    "        data_white_wine = pd.DataFrame([[fix_acid,vol_acid,citric_acid,resi_sugar,chlorides,free_sul_o2,total_sul_o2,density,pH,sulphates,alcohol]] )\n",
    "        arr_white_predict = lr_model_white.predict(data_white_wine)[0]\n",
    "        arr_white_predict = int(round(arr_white_predict,0))\n",
    "        \n",
    "        return render_template('white_wine_quality_predict.html',fix_acid = fix_acid, vol_acid = vol_acid,\n",
    "                               citric_acid = citric_acid, resi_sugar = resi_sugar, chlorides = chlorides, \n",
    "                               free_sul_o2 = free_sul_o2, total_sul_o2 = total_sul_o2, density = density, \n",
    "                               pH = pH, sulphates = sulphates, alcohol = alcohol, \n",
    "                               arr_white_predict=arr_white_predict)\n",
    "        \n",
    "    return \"Unsupported request method,{}\".format(request.method),400"
   ]
  },
  {
   "cell_type": "markdown",
   "metadata": {},
   "source": [
    "### Run the Flask Web Server"
   ]
  },
  {
   "cell_type": "code",
   "execution_count": null,
   "metadata": {
    "execution": {
     "iopub.execute_input": "2021-12-08T08:50:28.572422Z",
     "iopub.status.busy": "2021-12-08T08:50:28.571562Z",
     "iopub.status.idle": "2021-12-08T08:52:14.935893Z",
     "shell.execute_reply": "2021-12-08T08:52:14.935179Z",
     "shell.execute_reply.started": "2021-12-08T08:50:28.572373Z"
    }
   },
   "outputs": [
    {
     "name": "stdout",
     "output_type": "stream",
     "text": [
      " * Serving Flask app \"__main__\" (lazy loading)\n",
      " * Environment: production\n",
      "   WARNING: This is a development server. Do not use it in a production deployment.\n",
      "   Use a production WSGI server instead.\n",
      " * Debug mode: off\n"
     ]
    },
    {
     "name": "stderr",
     "output_type": "stream",
     "text": [
      " * Running on http://127.0.0.1:5000/ (Press CTRL+C to quit)\n",
      "127.0.0.1 - - [08/Dec/2021 15:42:58] \"\u001b[33mGET / HTTP/1.1\u001b[0m\" 404 -\n",
      "127.0.0.1 - - [08/Dec/2021 15:43:16] \"\u001b[37mGET /white_input HTTP/1.1\u001b[0m\" 200 -\n",
      "[2021-12-08 15:43:23,482] ERROR in app: Exception on /white_predict [GET]\n",
      "Traceback (most recent call last):\n",
      "  File \"C:\\Users\\saicb\\anaconda3\\lib\\site-packages\\flask\\app.py\", line 2447, in wsgi_app\n",
      "    response = self.full_dispatch_request()\n",
      "  File \"C:\\Users\\saicb\\anaconda3\\lib\\site-packages\\flask\\app.py\", line 1952, in full_dispatch_request\n",
      "    rv = self.handle_user_exception(e)\n",
      "  File \"C:\\Users\\saicb\\anaconda3\\lib\\site-packages\\flask\\app.py\", line 1821, in handle_user_exception\n",
      "    reraise(exc_type, exc_value, tb)\n",
      "  File \"C:\\Users\\saicb\\anaconda3\\lib\\site-packages\\flask\\_compat.py\", line 39, in reraise\n",
      "    raise value\n",
      "  File \"C:\\Users\\saicb\\anaconda3\\lib\\site-packages\\flask\\app.py\", line 1950, in full_dispatch_request\n",
      "    rv = self.dispatch_request()\n",
      "  File \"C:\\Users\\saicb\\anaconda3\\lib\\site-packages\\flask\\app.py\", line 1936, in dispatch_request\n",
      "    return self.view_functions[rule.endpoint](**req.view_args)\n",
      "  File \"<ipython-input-6-bb52ed486e26>\", line 43, in white_predict\n",
      "    arr_white_predict = lr_model_white.predict(data_white_wine)[0]\n",
      "  File \"C:\\Users\\saicb\\anaconda3\\lib\\site-packages\\sklearn\\linear_model\\_base.py\", line 236, in predict\n",
      "    return self._decision_function(X)\n",
      "  File \"C:\\Users\\saicb\\anaconda3\\lib\\site-packages\\sklearn\\linear_model\\_base.py\", line 218, in _decision_function\n",
      "    X = check_array(X, accept_sparse=['csr', 'csc', 'coo'])\n",
      "  File \"C:\\Users\\saicb\\anaconda3\\lib\\site-packages\\sklearn\\utils\\validation.py\", line 72, in inner_f\n",
      "    return f(**kwargs)\n",
      "  File \"C:\\Users\\saicb\\anaconda3\\lib\\site-packages\\sklearn\\utils\\validation.py\", line 598, in check_array\n",
      "    array = np.asarray(array, order=order, dtype=dtype)\n",
      "  File \"C:\\Users\\saicb\\anaconda3\\lib\\site-packages\\numpy\\core\\_asarray.py\", line 83, in asarray\n",
      "    return array(a, dtype, copy=False, order=order)\n",
      "  File \"C:\\Users\\saicb\\anaconda3\\lib\\site-packages\\pandas\\core\\generic.py\", line 1781, in __array__\n",
      "    return np.asarray(self._values, dtype=dtype)\n",
      "  File \"C:\\Users\\saicb\\anaconda3\\lib\\site-packages\\numpy\\core\\_asarray.py\", line 83, in asarray\n",
      "    return array(a, dtype, copy=False, order=order)\n",
      "ValueError: could not convert string to float: ''\n",
      "127.0.0.1 - - [08/Dec/2021 15:43:23] \"\u001b[35m\u001b[1mGET /white_predict?fix_acid=0.7&vol_acid=.23&citric_acid=&resi_sugar=&chlorides=&free_sul_o2=&total_sul_o2=&density=&pH=&sulphates=&alcohol= HTTP/1.1\u001b[0m\" 500 -\n"
     ]
    }
   ],
   "source": [
    "if __name__ == '__main__':\n",
    "    app.run()"
   ]
  },
  {
   "cell_type": "code",
   "execution_count": null,
   "metadata": {},
   "outputs": [],
   "source": [
    "\"fix_acid=7.2&vol_acid=0.3&citric_acid=0.23&resi_sugar=1&chlorides=0.058&free_sul_o2=47&total_sul_o2=186&density=3.4&pH=6&sulphates=0.4&alcohol=9.9\".split('&')"
   ]
  }
 ],
 "metadata": {
  "kernelspec": {
   "display_name": "Python 3",
   "language": "python",
   "name": "python3"
  },
  "language_info": {
   "codemirror_mode": {
    "name": "ipython",
    "version": 3
   },
   "file_extension": ".py",
   "mimetype": "text/x-python",
   "name": "python",
   "nbconvert_exporter": "python",
   "pygments_lexer": "ipython3",
   "version": "3.8.5"
  }
 },
 "nbformat": 4,
 "nbformat_minor": 4
}
