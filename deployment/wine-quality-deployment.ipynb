{
 "cells": [
  {
   "cell_type": "markdown",
   "metadata": {},
   "source": [
    "# Wine Quality Model Deployment\n",
    "After analysing the given datasets, we have chosen and saved both the red and white wine models with the highest accuracy.\n",
    "\n",
    "This Flask application is written to deploy these models in production so that users can supply wine parameters and obtain an estimated quality prediction.\n",
    "\n",
    "There are two deployment models supported:\n",
    "\n",
    "1. Deployment to local machine\n",
    "    1. Just run this notebook in your local machine\n",
    "    \n",
    "2. Deployment to Heroku, which needs\n",
    "    1. Procfile\n",
    "    2. requirements.txt\n",
    "\n",
    "(search for and follow the steps to deploy the complete `deployment` folder, subfolders and contents to Heroku)"
   ]
  },
  {
   "cell_type": "code",
   "execution_count": null,
   "metadata": {},
   "outputs": [],
   "source": [
    "import pandas as pd\n",
    "from flask import Flask, request, render_template, redirect\n",
    "import pickle"
   ]
  },
  {
   "cell_type": "markdown",
   "metadata": {},
   "source": [
    "### Load the Linear Regression  Red and White Wine Models"
   ]
  },
  {
   "cell_type": "code",
   "execution_count": null,
   "metadata": {
    "execution": {
     "iopub.execute_input": "2021-12-08T08:50:28.536787Z",
     "iopub.status.busy": "2021-12-08T08:50:28.536112Z",
     "iopub.status.idle": "2021-12-08T08:50:28.547373Z",
     "shell.execute_reply": "2021-12-08T08:50:28.546392Z",
     "shell.execute_reply.started": "2021-12-08T08:50:28.536726Z"
    }
   },
   "outputs": [],
   "source": [
    "print(f'Creating a flask app for {__name__}')\n",
    "app = Flask(__name__)"
   ]
  },
  {
   "cell_type": "code",
   "execution_count": null,
   "metadata": {},
   "outputs": [],
   "source": [
    "def load_model(filename):\n",
    "    pklfile = open(filename, 'rb')\n",
    "    lr_model = pickle.load(pklfile)\n",
    "    pklfile.close()\n",
    "    return lr_model"
   ]
  },
  {
   "cell_type": "code",
   "execution_count": null,
   "metadata": {
    "scrolled": false
   },
   "outputs": [],
   "source": [
    "lr_model_white = load_model(\"models/white_wine_model.pkl\")\n",
    "lr_model_red = load_model(\"models/red_wine_model.pkl\")"
   ]
  },
  {
   "cell_type": "markdown",
   "metadata": {},
   "source": [
    "### Create a flask app"
   ]
  },
  {
   "cell_type": "code",
   "execution_count": null,
   "metadata": {},
   "outputs": [],
   "source": [
    "print(f'Creating a flask app for {__name__}')\n",
    "app = Flask(__name__)"
   ]
  },
  {
   "cell_type": "markdown",
   "metadata": {},
   "source": [
    "### Establish Routes for Red and White Wine Prediction"
   ]
  },
  {
   "cell_type": "code",
   "execution_count": null,
   "metadata": {},
   "outputs": [],
   "source": [
    "#Establish default route\n",
    "@app.route('/')\n",
    "def default():\n",
    "    return redirect('/red_input')"
   ]
  },
  {
   "cell_type": "code",
   "execution_count": null,
   "metadata": {
    "execution": {
     "iopub.execute_input": "2021-12-08T08:50:28.549394Z",
     "iopub.status.busy": "2021-12-08T08:50:28.548780Z",
     "iopub.status.idle": "2021-12-08T08:50:28.570311Z",
     "shell.execute_reply": "2021-12-08T08:50:28.569231Z",
     "shell.execute_reply.started": "2021-12-08T08:50:28.549347Z"
    }
   },
   "outputs": [],
   "source": [
    "# Establish red wine routes\n",
    "@app.route('/red_input')\n",
    "def red_input():\n",
    "    return render_template('red_wine_input.html')\n",
    "\n",
    "@app.route('/red_predict', methods =[\"GET\",\"POST\"])\n",
    "def red_predict():\n",
    "   \n",
    "    if request.method == 'GET':\n",
    "        va = request.args.get('va')\n",
    "        sul = request.args.get('sul')\n",
    "        alc =request.args.get('alc')\n",
    "\n",
    "        data_red_wine = pd.DataFrame([[va,sul,alc]] )    \n",
    "        arr_red_predict = lr_model_red.predict(data_red_wine)[0]\n",
    "        arr_red_predict = int(round(arr_red_predict,0))\n",
    "        \n",
    "        return render_template('red_wine_quality_predict.html', va=va, sul=sul, alc=alc, arr_red_predict=arr_red_predict) ### --> HTML response\n",
    "        \n",
    "    return \"Unsupported request method,{}\".format(request.method),400\n"
   ]
  },
  {
   "cell_type": "code",
   "execution_count": null,
   "metadata": {
    "execution": {
     "iopub.execute_input": "2021-12-08T08:50:28.549394Z",
     "iopub.status.busy": "2021-12-08T08:50:28.548780Z",
     "iopub.status.idle": "2021-12-08T08:50:28.570311Z",
     "shell.execute_reply": "2021-12-08T08:50:28.569231Z",
     "shell.execute_reply.started": "2021-12-08T08:50:28.549347Z"
    }
   },
   "outputs": [],
   "source": [
    "# Establish white wine routes\n",
    "@app.route('/white_input')\n",
    "def white_input():\n",
    "    return render_template('white_wine_input.html')\n",
    "\n",
    "@app.route('/white_predict',methods =[\"GET\",\"POST\"])\n",
    "def white_predict():\n",
    "    \n",
    "    if request.method == 'GET':\n",
    "        fix_acid = request.args.get('fix_acid')         \n",
    "        vol_acid = request.args.get('vol_acid')\n",
    "        citric_acid = request.args.get('citric_acid')\n",
    "        resi_sugar  = request.args.get('resi_sugar')\n",
    "        chlorides = request.args.get('chlorides')\n",
    "        free_sul_o2 = request.args.get('free_sul_o2')\n",
    "        total_sul_o2 = request.args.get('total_sul_o2')\n",
    "        density = request.args.get('density')\n",
    "        pH = request.args.get('pH')\n",
    "        sulphates = request.args.get('sulphates')\n",
    "        alcohol = request.args.get('alcohol')\n",
    "        \n",
    "        data_white_wine = pd.DataFrame([[fix_acid,vol_acid,citric_acid,resi_sugar,chlorides,free_sul_o2,total_sul_o2,density,pH,sulphates,alcohol]] )\n",
    "        arr_white_predict = lr_model_white.predict(data_white_wine)[0]\n",
    "        arr_white_predict = int(round(arr_white_predict,0))\n",
    "        \n",
    "        return render_template('white_wine_quality_predict.html',fix_acid = fix_acid, vol_acid = vol_acid,\n",
    "                               citric_acid = citric_acid, resi_sugar = resi_sugar, chlorides = chlorides, \n",
    "                               free_sul_o2 = free_sul_o2, total_sul_o2 = total_sul_o2, density = density, \n",
    "                               pH = pH, sulphates = sulphates, alcohol = alcohol, \n",
    "                               arr_white_predict=arr_white_predict)\n",
    "        \n",
    "    return \"Unsupported request method,{}\".format(request.method),400"
   ]
  },
  {
   "cell_type": "markdown",
   "metadata": {},
   "source": [
    "### Run the Flask Web Server"
   ]
  },
  {
   "cell_type": "code",
   "execution_count": null,
   "metadata": {
    "execution": {
     "iopub.execute_input": "2021-12-08T08:50:28.572422Z",
     "iopub.status.busy": "2021-12-08T08:50:28.571562Z",
     "iopub.status.idle": "2021-12-08T08:52:14.935893Z",
     "shell.execute_reply": "2021-12-08T08:52:14.935179Z",
     "shell.execute_reply.started": "2021-12-08T08:50:28.572373Z"
    }
   },
   "outputs": [],
   "source": [
    "if __name__ == '__main__':\n",
    "    app.run()"
   ]
  }
 ],
 "metadata": {
  "kernelspec": {
   "display_name": "Python 3",
   "language": "python",
   "name": "python3"
  },
  "language_info": {
   "codemirror_mode": {
    "name": "ipython",
    "version": 3
   },
   "file_extension": ".py",
   "mimetype": "text/x-python",
   "name": "python",
   "nbconvert_exporter": "python",
   "pygments_lexer": "ipython3",
   "version": "3.8.5"
  }
 },
 "nbformat": 4,
 "nbformat_minor": 4
}
