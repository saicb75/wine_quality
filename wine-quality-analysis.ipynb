{
 "cells": [
  {
   "cell_type": "markdown",
   "metadata": {},
   "source": [
    "# Wine Quality Data Set\n",
    "\n",
    "_Note: (This data set is available in UCI at https://archive.ics.uci.edu/ml/datasets/Wine+Quality. An excerpt of the problem statement is reproduced here for convenience.)_\n",
    "\n",
    "**Abstract:** Two datasets are included, related to red and white vinho verde wine samples, from the north of Portugal. The goal is to model wine quality based on physicochemical tests.\n",
    "\n",
    "#### Data Set Information:\n",
    "\n",
    "The two datasets are related to red and white variants of the Portuguese \"Vinho Verde\" wine. Due to privacy and logistic issues, only physicochemical (inputs) and sensory (the output) variables are available (e.g. there is no data about grape types, wine brand, wine selling price, etc.).\n",
    "\n",
    "These datasets can be viewed as classification or regression tasks. The classes are ordered and not balanced (e.g. there are many more normal wines than excellent or poor ones). Outlier detection algorithms could be used to detect the few excellent or poor wines. Also, we are not sure if all input variables are relevant. So it could be interesting to test feature selection methods.\n",
    "\n",
    "\n",
    "#### Attribute Information:\n",
    "\n",
    "Input variables (based on physicochemical tests):\n",
    "\n",
    "1. fixed acidity\n",
    "2. volatile acidity\n",
    "3. citric acid\n",
    "4. residual sugar\n",
    "5. chlorides\n",
    "6. free sulfur dioxide\n",
    "7. total sulfur dioxide\n",
    "8. density\n",
    "9. pH\n",
    "10. sulphates\n",
    "11. alcohol\n",
    "\n",
    "Output variable (based on sensory data):\n",
    "\n",
    "12. quality (score between 0 and 10)"
   ]
  },
  {
   "cell_type": "markdown",
   "metadata": {},
   "source": [
    "## Approach for Wine Quality Model Development\n",
    "\n",
    "We will be developing separate models for the red wine and white wine datasets because the UCI website provides two separate datasets. We want to analyze them separately to determine if there is any difference in the models and predictions. If this hypothesis holds true, then we might want to deploy both models separately; otherwise we can combine predictions through a single model.\n",
    "\n",
    "#### Project Setup:\n",
    "\n",
    "Our project adopts a folder structure as follows:\n",
    "\n",
    "<pre>\n",
    "wine_quality_analysis\n",
    "    |________ datasets\n",
    "    |________ models\n",
    "    |________ deployment\n",
    " </pre>\n",
    "\n",
    "### How the code is organized\n",
    "\n",
    "The code is provided in 3 sections:\n",
    "\n",
    "**Section 1:** Red Wine Analysis, Model Creation and Saving\n",
    "\n",
    "**Section 2:** White Wine Analysis, Model Creation and Saving\n",
    "\n",
    "**Section 3:** Deployment Artifacts"
   ]
  },
  {
   "cell_type": "code",
   "execution_count": 1,
   "metadata": {
    "execution": {
     "iopub.execute_input": "2021-12-08T08:50:23.513408Z",
     "iopub.status.busy": "2021-12-08T08:50:23.512785Z",
     "iopub.status.idle": "2021-12-08T08:50:24.797999Z",
     "shell.execute_reply": "2021-12-08T08:50:24.797142Z",
     "shell.execute_reply.started": "2021-12-08T08:50:23.513294Z"
    }
   },
   "outputs": [],
   "source": [
    "#import the relevant libraries\n",
    "\n",
    "import pandas as pd\n",
    "import numpy as np\n",
    "import matplotlib.pyplot as plt\n",
    "import seaborn as sns\n",
    "import pickle\n",
    "from sklearn.linear_model import LinearRegression\n",
    "from sklearn.model_selection import train_test_split"
   ]
  },
  {
   "cell_type": "markdown",
   "metadata": {},
   "source": [
    "## Section 1 - Red Wine Analysis, Model Creation and Saving"
   ]
  },
  {
   "cell_type": "markdown",
   "metadata": {},
   "source": [
    "#### Read the red wine quality dataset"
   ]
  },
  {
   "cell_type": "code",
   "execution_count": 2,
   "metadata": {
    "execution": {
     "iopub.execute_input": "2021-12-08T08:50:24.800381Z",
     "iopub.status.busy": "2021-12-08T08:50:24.800028Z",
     "iopub.status.idle": "2021-12-08T08:50:24.851130Z",
     "shell.execute_reply": "2021-12-08T08:50:24.850234Z",
     "shell.execute_reply.started": "2021-12-08T08:50:24.800337Z"
    }
   },
   "outputs": [
    {
     "data": {
      "text/html": [
       "<div>\n",
       "<style scoped>\n",
       "    .dataframe tbody tr th:only-of-type {\n",
       "        vertical-align: middle;\n",
       "    }\n",
       "\n",
       "    .dataframe tbody tr th {\n",
       "        vertical-align: top;\n",
       "    }\n",
       "\n",
       "    .dataframe thead th {\n",
       "        text-align: right;\n",
       "    }\n",
       "</style>\n",
       "<table border=\"1\" class=\"dataframe\">\n",
       "  <thead>\n",
       "    <tr style=\"text-align: right;\">\n",
       "      <th></th>\n",
       "      <th>fixed acidity</th>\n",
       "      <th>volatile acidity</th>\n",
       "      <th>citric acid</th>\n",
       "      <th>residual sugar</th>\n",
       "      <th>chlorides</th>\n",
       "      <th>free sulfur dioxide</th>\n",
       "      <th>total sulfur dioxide</th>\n",
       "      <th>density</th>\n",
       "      <th>pH</th>\n",
       "      <th>sulphates</th>\n",
       "      <th>alcohol</th>\n",
       "      <th>quality</th>\n",
       "    </tr>\n",
       "  </thead>\n",
       "  <tbody>\n",
       "    <tr>\n",
       "      <th>0</th>\n",
       "      <td>7.4</td>\n",
       "      <td>0.70</td>\n",
       "      <td>0.00</td>\n",
       "      <td>1.9</td>\n",
       "      <td>0.076</td>\n",
       "      <td>11.0</td>\n",
       "      <td>34.0</td>\n",
       "      <td>0.9978</td>\n",
       "      <td>3.51</td>\n",
       "      <td>0.56</td>\n",
       "      <td>9.4</td>\n",
       "      <td>5</td>\n",
       "    </tr>\n",
       "    <tr>\n",
       "      <th>1</th>\n",
       "      <td>7.8</td>\n",
       "      <td>0.88</td>\n",
       "      <td>0.00</td>\n",
       "      <td>2.6</td>\n",
       "      <td>0.098</td>\n",
       "      <td>25.0</td>\n",
       "      <td>67.0</td>\n",
       "      <td>0.9968</td>\n",
       "      <td>3.20</td>\n",
       "      <td>0.68</td>\n",
       "      <td>9.8</td>\n",
       "      <td>5</td>\n",
       "    </tr>\n",
       "    <tr>\n",
       "      <th>2</th>\n",
       "      <td>7.8</td>\n",
       "      <td>0.76</td>\n",
       "      <td>0.04</td>\n",
       "      <td>2.3</td>\n",
       "      <td>0.092</td>\n",
       "      <td>15.0</td>\n",
       "      <td>54.0</td>\n",
       "      <td>0.9970</td>\n",
       "      <td>3.26</td>\n",
       "      <td>0.65</td>\n",
       "      <td>9.8</td>\n",
       "      <td>5</td>\n",
       "    </tr>\n",
       "    <tr>\n",
       "      <th>3</th>\n",
       "      <td>11.2</td>\n",
       "      <td>0.28</td>\n",
       "      <td>0.56</td>\n",
       "      <td>1.9</td>\n",
       "      <td>0.075</td>\n",
       "      <td>17.0</td>\n",
       "      <td>60.0</td>\n",
       "      <td>0.9980</td>\n",
       "      <td>3.16</td>\n",
       "      <td>0.58</td>\n",
       "      <td>9.8</td>\n",
       "      <td>6</td>\n",
       "    </tr>\n",
       "    <tr>\n",
       "      <th>4</th>\n",
       "      <td>7.4</td>\n",
       "      <td>0.70</td>\n",
       "      <td>0.00</td>\n",
       "      <td>1.9</td>\n",
       "      <td>0.076</td>\n",
       "      <td>11.0</td>\n",
       "      <td>34.0</td>\n",
       "      <td>0.9978</td>\n",
       "      <td>3.51</td>\n",
       "      <td>0.56</td>\n",
       "      <td>9.4</td>\n",
       "      <td>5</td>\n",
       "    </tr>\n",
       "  </tbody>\n",
       "</table>\n",
       "</div>"
      ],
      "text/plain": [
       "   fixed acidity  volatile acidity  citric acid  residual sugar  chlorides  \\\n",
       "0            7.4              0.70         0.00             1.9      0.076   \n",
       "1            7.8              0.88         0.00             2.6      0.098   \n",
       "2            7.8              0.76         0.04             2.3      0.092   \n",
       "3           11.2              0.28         0.56             1.9      0.075   \n",
       "4            7.4              0.70         0.00             1.9      0.076   \n",
       "\n",
       "   free sulfur dioxide  total sulfur dioxide  density    pH  sulphates  \\\n",
       "0                 11.0                  34.0   0.9978  3.51       0.56   \n",
       "1                 25.0                  67.0   0.9968  3.20       0.68   \n",
       "2                 15.0                  54.0   0.9970  3.26       0.65   \n",
       "3                 17.0                  60.0   0.9980  3.16       0.58   \n",
       "4                 11.0                  34.0   0.9978  3.51       0.56   \n",
       "\n",
       "   alcohol  quality  \n",
       "0      9.4        5  \n",
       "1      9.8        5  \n",
       "2      9.8        5  \n",
       "3      9.8        6  \n",
       "4      9.4        5  "
      ]
     },
     "execution_count": 2,
     "metadata": {},
     "output_type": "execute_result"
    }
   ],
   "source": [
    "# read the dataset\n",
    "\n",
    "red_wine_data = pd.read_csv('datasets/winequality-red.csv', delimiter =';')\n",
    "red_wine_data.head()"
   ]
  },
  {
   "cell_type": "markdown",
   "metadata": {},
   "source": [
    "### Develop an ML Model\n",
    "\n",
    "Developing an ML model involves a number of steps.\n",
    "\n",
    "Let us adopt the following Machine Learning Pipeline:\n",
    "\n",
    "1. **Sanity Check:** understand the data profile - number of rows, number of columns, data type of each column and its alignment with the expected data type as per the problem statement, target column characteristics and so on. \n",
    "2. **EDA/Preprocessing:** check if any features or attributes are missing and how to handle these;\n",
    "3. Feature Engineering\n",
    "4. Model Building\n",
    "5. Model Saving\n",
    "6. Model Deployment\n",
    "7. Model in Production\n",
    "8. Observe model behaviour\n",
    "9. Obtain updated datasets\n",
    "10. Redo steps 1..9 if required"
   ]
  },
  {
   "cell_type": "markdown",
   "metadata": {},
   "source": [
    "## Sanity Check\n",
    "\n",
    "1. Shape and data sufficiency: Check if there are sufficient rows of data for an ML problem\n",
    "2. Datatypes: Check whether all the columns in the given dataset is numeric\n",
    "3. Missing Values: Check whether there are missing values\n",
    "4. Zero-variance: Check if there are any zero variance column in the dataset\n",
    "5. Range of numbers in each column: Check if the column values within the dataset are in the same magnitude\n",
    "6. Correlation: Check correlation between feature columns & target"
   ]
  },
  {
   "cell_type": "code",
   "execution_count": 3,
   "metadata": {
    "execution": {
     "iopub.execute_input": "2021-12-08T08:50:24.853234Z",
     "iopub.status.busy": "2021-12-08T08:50:24.852457Z",
     "iopub.status.idle": "2021-12-08T08:50:24.859171Z",
     "shell.execute_reply": "2021-12-08T08:50:24.858534Z",
     "shell.execute_reply.started": "2021-12-08T08:50:24.853195Z"
    }
   },
   "outputs": [
    {
     "data": {
      "text/plain": [
       "(1599, 12)"
      ]
     },
     "execution_count": 3,
     "metadata": {},
     "output_type": "execute_result"
    }
   ],
   "source": [
    "# 1 Shape\n",
    "red_wine_data.shape"
   ]
  },
  {
   "cell_type": "code",
   "execution_count": 4,
   "metadata": {
    "execution": {
     "iopub.execute_input": "2021-12-08T08:50:24.860805Z",
     "iopub.status.busy": "2021-12-08T08:50:24.860435Z",
     "iopub.status.idle": "2021-12-08T08:50:24.873542Z",
     "shell.execute_reply": "2021-12-08T08:50:24.872672Z",
     "shell.execute_reply.started": "2021-12-08T08:50:24.860752Z"
    }
   },
   "outputs": [
    {
     "data": {
      "text/plain": [
       "fixed acidity           float64\n",
       "volatile acidity        float64\n",
       "citric acid             float64\n",
       "residual sugar          float64\n",
       "chlorides               float64\n",
       "free sulfur dioxide     float64\n",
       "total sulfur dioxide    float64\n",
       "density                 float64\n",
       "pH                      float64\n",
       "sulphates               float64\n",
       "alcohol                 float64\n",
       "quality                   int64\n",
       "dtype: object"
      ]
     },
     "execution_count": 4,
     "metadata": {},
     "output_type": "execute_result"
    }
   ],
   "source": [
    "# 3 Datatypes\n",
    "red_wine_data.dtypes"
   ]
  },
  {
   "cell_type": "code",
   "execution_count": 5,
   "metadata": {
    "execution": {
     "iopub.execute_input": "2021-12-08T08:50:24.876164Z",
     "iopub.status.busy": "2021-12-08T08:50:24.875478Z",
     "iopub.status.idle": "2021-12-08T08:50:24.901387Z",
     "shell.execute_reply": "2021-12-08T08:50:24.900477Z",
     "shell.execute_reply.started": "2021-12-08T08:50:24.876126Z"
    }
   },
   "outputs": [
    {
     "name": "stdout",
     "output_type": "stream",
     "text": [
      "<class 'pandas.core.frame.DataFrame'>\n",
      "RangeIndex: 1599 entries, 0 to 1598\n",
      "Data columns (total 12 columns):\n",
      " #   Column                Non-Null Count  Dtype  \n",
      "---  ------                --------------  -----  \n",
      " 0   fixed acidity         1599 non-null   float64\n",
      " 1   volatile acidity      1599 non-null   float64\n",
      " 2   citric acid           1599 non-null   float64\n",
      " 3   residual sugar        1599 non-null   float64\n",
      " 4   chlorides             1599 non-null   float64\n",
      " 5   free sulfur dioxide   1599 non-null   float64\n",
      " 6   total sulfur dioxide  1599 non-null   float64\n",
      " 7   density               1599 non-null   float64\n",
      " 8   pH                    1599 non-null   float64\n",
      " 9   sulphates             1599 non-null   float64\n",
      " 10  alcohol               1599 non-null   float64\n",
      " 11  quality               1599 non-null   int64  \n",
      "dtypes: float64(11), int64(1)\n",
      "memory usage: 150.0 KB\n"
     ]
    }
   ],
   "source": [
    "red_wine_data.info()"
   ]
  },
  {
   "cell_type": "code",
   "execution_count": 6,
   "metadata": {
    "execution": {
     "iopub.execute_input": "2021-12-08T08:50:24.902962Z",
     "iopub.status.busy": "2021-12-08T08:50:24.902686Z",
     "iopub.status.idle": "2021-12-08T08:50:24.910663Z",
     "shell.execute_reply": "2021-12-08T08:50:24.909738Z",
     "shell.execute_reply.started": "2021-12-08T08:50:24.902930Z"
    }
   },
   "outputs": [
    {
     "data": {
      "text/plain": [
       "5    681\n",
       "6    638\n",
       "7    199\n",
       "4     53\n",
       "8     18\n",
       "3     10\n",
       "Name: quality, dtype: int64"
      ]
     },
     "execution_count": 6,
     "metadata": {},
     "output_type": "execute_result"
    }
   ],
   "source": [
    "red_wine_data['quality'].value_counts()"
   ]
  },
  {
   "cell_type": "code",
   "execution_count": 7,
   "metadata": {
    "execution": {
     "iopub.execute_input": "2021-12-08T08:50:24.912402Z",
     "iopub.status.busy": "2021-12-08T08:50:24.912173Z",
     "iopub.status.idle": "2021-12-08T08:50:24.938623Z",
     "shell.execute_reply": "2021-12-08T08:50:24.937864Z",
     "shell.execute_reply.started": "2021-12-08T08:50:24.912370Z"
    }
   },
   "outputs": [
    {
     "name": "stdout",
     "output_type": "stream",
     "text": [
      "fixed acidity 96\n",
      "volatile acidity 143\n",
      "citric acid 80\n",
      "residual sugar 91\n",
      "chlorides 153\n",
      "free sulfur dioxide 60\n",
      "total sulfur dioxide 144\n",
      "density 436\n",
      "pH 89\n",
      "sulphates 96\n",
      "alcohol 65\n",
      "quality 6\n"
     ]
    }
   ],
   "source": [
    "#4 zero variance column needs to be removed. \n",
    "\n",
    "for col in red_wine_data:\n",
    "    print(col, red_wine_data[col].value_counts().count())\n",
    "    \n",
    "#Since none of the column is invariant"
   ]
  },
  {
   "cell_type": "code",
   "execution_count": 8,
   "metadata": {
    "execution": {
     "iopub.execute_input": "2021-12-08T08:50:24.940830Z",
     "iopub.status.busy": "2021-12-08T08:50:24.940556Z",
     "iopub.status.idle": "2021-12-08T08:50:24.968553Z",
     "shell.execute_reply": "2021-12-08T08:50:24.967538Z",
     "shell.execute_reply.started": "2021-12-08T08:50:24.940756Z"
    }
   },
   "outputs": [
    {
     "data": {
      "text/html": [
       "<div>\n",
       "<style scoped>\n",
       "    .dataframe tbody tr th:only-of-type {\n",
       "        vertical-align: middle;\n",
       "    }\n",
       "\n",
       "    .dataframe tbody tr th {\n",
       "        vertical-align: top;\n",
       "    }\n",
       "\n",
       "    .dataframe thead th {\n",
       "        text-align: right;\n",
       "    }\n",
       "</style>\n",
       "<table border=\"1\" class=\"dataframe\">\n",
       "  <thead>\n",
       "    <tr style=\"text-align: right;\">\n",
       "      <th></th>\n",
       "      <th>fixed acidity</th>\n",
       "      <th>volatile acidity</th>\n",
       "      <th>citric acid</th>\n",
       "      <th>residual sugar</th>\n",
       "      <th>chlorides</th>\n",
       "      <th>free sulfur dioxide</th>\n",
       "      <th>total sulfur dioxide</th>\n",
       "      <th>density</th>\n",
       "      <th>pH</th>\n",
       "      <th>sulphates</th>\n",
       "      <th>alcohol</th>\n",
       "      <th>quality</th>\n",
       "    </tr>\n",
       "  </thead>\n",
       "  <tbody>\n",
       "    <tr>\n",
       "      <th>fixed acidity</th>\n",
       "      <td>1.000000</td>\n",
       "      <td>-0.256131</td>\n",
       "      <td>0.671703</td>\n",
       "      <td>0.114777</td>\n",
       "      <td>0.093705</td>\n",
       "      <td>-0.153794</td>\n",
       "      <td>-0.113181</td>\n",
       "      <td>0.668047</td>\n",
       "      <td>-0.682978</td>\n",
       "      <td>0.183006</td>\n",
       "      <td>-0.061668</td>\n",
       "      <td>0.124052</td>\n",
       "    </tr>\n",
       "    <tr>\n",
       "      <th>volatile acidity</th>\n",
       "      <td>-0.256131</td>\n",
       "      <td>1.000000</td>\n",
       "      <td>-0.552496</td>\n",
       "      <td>0.001918</td>\n",
       "      <td>0.061298</td>\n",
       "      <td>-0.010504</td>\n",
       "      <td>0.076470</td>\n",
       "      <td>0.022026</td>\n",
       "      <td>0.234937</td>\n",
       "      <td>-0.260987</td>\n",
       "      <td>-0.202288</td>\n",
       "      <td>-0.390558</td>\n",
       "    </tr>\n",
       "    <tr>\n",
       "      <th>citric acid</th>\n",
       "      <td>0.671703</td>\n",
       "      <td>-0.552496</td>\n",
       "      <td>1.000000</td>\n",
       "      <td>0.143577</td>\n",
       "      <td>0.203823</td>\n",
       "      <td>-0.060978</td>\n",
       "      <td>0.035533</td>\n",
       "      <td>0.364947</td>\n",
       "      <td>-0.541904</td>\n",
       "      <td>0.312770</td>\n",
       "      <td>0.109903</td>\n",
       "      <td>0.226373</td>\n",
       "    </tr>\n",
       "    <tr>\n",
       "      <th>residual sugar</th>\n",
       "      <td>0.114777</td>\n",
       "      <td>0.001918</td>\n",
       "      <td>0.143577</td>\n",
       "      <td>1.000000</td>\n",
       "      <td>0.055610</td>\n",
       "      <td>0.187049</td>\n",
       "      <td>0.203028</td>\n",
       "      <td>0.355283</td>\n",
       "      <td>-0.085652</td>\n",
       "      <td>0.005527</td>\n",
       "      <td>0.042075</td>\n",
       "      <td>0.013732</td>\n",
       "    </tr>\n",
       "    <tr>\n",
       "      <th>chlorides</th>\n",
       "      <td>0.093705</td>\n",
       "      <td>0.061298</td>\n",
       "      <td>0.203823</td>\n",
       "      <td>0.055610</td>\n",
       "      <td>1.000000</td>\n",
       "      <td>0.005562</td>\n",
       "      <td>0.047400</td>\n",
       "      <td>0.200632</td>\n",
       "      <td>-0.265026</td>\n",
       "      <td>0.371260</td>\n",
       "      <td>-0.221141</td>\n",
       "      <td>-0.128907</td>\n",
       "    </tr>\n",
       "    <tr>\n",
       "      <th>free sulfur dioxide</th>\n",
       "      <td>-0.153794</td>\n",
       "      <td>-0.010504</td>\n",
       "      <td>-0.060978</td>\n",
       "      <td>0.187049</td>\n",
       "      <td>0.005562</td>\n",
       "      <td>1.000000</td>\n",
       "      <td>0.667666</td>\n",
       "      <td>-0.021946</td>\n",
       "      <td>0.070377</td>\n",
       "      <td>0.051658</td>\n",
       "      <td>-0.069408</td>\n",
       "      <td>-0.050656</td>\n",
       "    </tr>\n",
       "    <tr>\n",
       "      <th>total sulfur dioxide</th>\n",
       "      <td>-0.113181</td>\n",
       "      <td>0.076470</td>\n",
       "      <td>0.035533</td>\n",
       "      <td>0.203028</td>\n",
       "      <td>0.047400</td>\n",
       "      <td>0.667666</td>\n",
       "      <td>1.000000</td>\n",
       "      <td>0.071269</td>\n",
       "      <td>-0.066495</td>\n",
       "      <td>0.042947</td>\n",
       "      <td>-0.205654</td>\n",
       "      <td>-0.185100</td>\n",
       "    </tr>\n",
       "    <tr>\n",
       "      <th>density</th>\n",
       "      <td>0.668047</td>\n",
       "      <td>0.022026</td>\n",
       "      <td>0.364947</td>\n",
       "      <td>0.355283</td>\n",
       "      <td>0.200632</td>\n",
       "      <td>-0.021946</td>\n",
       "      <td>0.071269</td>\n",
       "      <td>1.000000</td>\n",
       "      <td>-0.341699</td>\n",
       "      <td>0.148506</td>\n",
       "      <td>-0.496180</td>\n",
       "      <td>-0.174919</td>\n",
       "    </tr>\n",
       "    <tr>\n",
       "      <th>pH</th>\n",
       "      <td>-0.682978</td>\n",
       "      <td>0.234937</td>\n",
       "      <td>-0.541904</td>\n",
       "      <td>-0.085652</td>\n",
       "      <td>-0.265026</td>\n",
       "      <td>0.070377</td>\n",
       "      <td>-0.066495</td>\n",
       "      <td>-0.341699</td>\n",
       "      <td>1.000000</td>\n",
       "      <td>-0.196648</td>\n",
       "      <td>0.205633</td>\n",
       "      <td>-0.057731</td>\n",
       "    </tr>\n",
       "    <tr>\n",
       "      <th>sulphates</th>\n",
       "      <td>0.183006</td>\n",
       "      <td>-0.260987</td>\n",
       "      <td>0.312770</td>\n",
       "      <td>0.005527</td>\n",
       "      <td>0.371260</td>\n",
       "      <td>0.051658</td>\n",
       "      <td>0.042947</td>\n",
       "      <td>0.148506</td>\n",
       "      <td>-0.196648</td>\n",
       "      <td>1.000000</td>\n",
       "      <td>0.093595</td>\n",
       "      <td>0.251397</td>\n",
       "    </tr>\n",
       "    <tr>\n",
       "      <th>alcohol</th>\n",
       "      <td>-0.061668</td>\n",
       "      <td>-0.202288</td>\n",
       "      <td>0.109903</td>\n",
       "      <td>0.042075</td>\n",
       "      <td>-0.221141</td>\n",
       "      <td>-0.069408</td>\n",
       "      <td>-0.205654</td>\n",
       "      <td>-0.496180</td>\n",
       "      <td>0.205633</td>\n",
       "      <td>0.093595</td>\n",
       "      <td>1.000000</td>\n",
       "      <td>0.476166</td>\n",
       "    </tr>\n",
       "    <tr>\n",
       "      <th>quality</th>\n",
       "      <td>0.124052</td>\n",
       "      <td>-0.390558</td>\n",
       "      <td>0.226373</td>\n",
       "      <td>0.013732</td>\n",
       "      <td>-0.128907</td>\n",
       "      <td>-0.050656</td>\n",
       "      <td>-0.185100</td>\n",
       "      <td>-0.174919</td>\n",
       "      <td>-0.057731</td>\n",
       "      <td>0.251397</td>\n",
       "      <td>0.476166</td>\n",
       "      <td>1.000000</td>\n",
       "    </tr>\n",
       "  </tbody>\n",
       "</table>\n",
       "</div>"
      ],
      "text/plain": [
       "                      fixed acidity  volatile acidity  citric acid  \\\n",
       "fixed acidity              1.000000         -0.256131     0.671703   \n",
       "volatile acidity          -0.256131          1.000000    -0.552496   \n",
       "citric acid                0.671703         -0.552496     1.000000   \n",
       "residual sugar             0.114777          0.001918     0.143577   \n",
       "chlorides                  0.093705          0.061298     0.203823   \n",
       "free sulfur dioxide       -0.153794         -0.010504    -0.060978   \n",
       "total sulfur dioxide      -0.113181          0.076470     0.035533   \n",
       "density                    0.668047          0.022026     0.364947   \n",
       "pH                        -0.682978          0.234937    -0.541904   \n",
       "sulphates                  0.183006         -0.260987     0.312770   \n",
       "alcohol                   -0.061668         -0.202288     0.109903   \n",
       "quality                    0.124052         -0.390558     0.226373   \n",
       "\n",
       "                      residual sugar  chlorides  free sulfur dioxide  \\\n",
       "fixed acidity               0.114777   0.093705            -0.153794   \n",
       "volatile acidity            0.001918   0.061298            -0.010504   \n",
       "citric acid                 0.143577   0.203823            -0.060978   \n",
       "residual sugar              1.000000   0.055610             0.187049   \n",
       "chlorides                   0.055610   1.000000             0.005562   \n",
       "free sulfur dioxide         0.187049   0.005562             1.000000   \n",
       "total sulfur dioxide        0.203028   0.047400             0.667666   \n",
       "density                     0.355283   0.200632            -0.021946   \n",
       "pH                         -0.085652  -0.265026             0.070377   \n",
       "sulphates                   0.005527   0.371260             0.051658   \n",
       "alcohol                     0.042075  -0.221141            -0.069408   \n",
       "quality                     0.013732  -0.128907            -0.050656   \n",
       "\n",
       "                      total sulfur dioxide   density        pH  sulphates  \\\n",
       "fixed acidity                    -0.113181  0.668047 -0.682978   0.183006   \n",
       "volatile acidity                  0.076470  0.022026  0.234937  -0.260987   \n",
       "citric acid                       0.035533  0.364947 -0.541904   0.312770   \n",
       "residual sugar                    0.203028  0.355283 -0.085652   0.005527   \n",
       "chlorides                         0.047400  0.200632 -0.265026   0.371260   \n",
       "free sulfur dioxide               0.667666 -0.021946  0.070377   0.051658   \n",
       "total sulfur dioxide              1.000000  0.071269 -0.066495   0.042947   \n",
       "density                           0.071269  1.000000 -0.341699   0.148506   \n",
       "pH                               -0.066495 -0.341699  1.000000  -0.196648   \n",
       "sulphates                         0.042947  0.148506 -0.196648   1.000000   \n",
       "alcohol                          -0.205654 -0.496180  0.205633   0.093595   \n",
       "quality                          -0.185100 -0.174919 -0.057731   0.251397   \n",
       "\n",
       "                       alcohol   quality  \n",
       "fixed acidity        -0.061668  0.124052  \n",
       "volatile acidity     -0.202288 -0.390558  \n",
       "citric acid           0.109903  0.226373  \n",
       "residual sugar        0.042075  0.013732  \n",
       "chlorides            -0.221141 -0.128907  \n",
       "free sulfur dioxide  -0.069408 -0.050656  \n",
       "total sulfur dioxide -0.205654 -0.185100  \n",
       "density              -0.496180 -0.174919  \n",
       "pH                    0.205633 -0.057731  \n",
       "sulphates             0.093595  0.251397  \n",
       "alcohol               1.000000  0.476166  \n",
       "quality               0.476166  1.000000  "
      ]
     },
     "execution_count": 8,
     "metadata": {},
     "output_type": "execute_result"
    }
   ],
   "source": [
    "# 4 Relationship between features & the target\n",
    "red_wine_data.corr()"
   ]
  },
  {
   "cell_type": "code",
   "execution_count": 9,
   "metadata": {
    "execution": {
     "iopub.execute_input": "2021-12-08T08:50:24.970292Z",
     "iopub.status.busy": "2021-12-08T08:50:24.969720Z",
     "iopub.status.idle": "2021-12-08T08:50:26.127329Z",
     "shell.execute_reply": "2021-12-08T08:50:26.126127Z",
     "shell.execute_reply.started": "2021-12-08T08:50:24.970256Z"
    }
   },
   "outputs": [
    {
     "data": {
      "image/png": "[encoded data removed]",
      "text/plain": [
       "<Figure size 1152x432 with 2 Axes>"
      ]
     },
     "metadata": {
      "needs_background": "light"
     },
     "output_type": "display_data"
    }
   ],
   "source": [
    "plt.figure(figsize=(16, 6))\n",
    "sns.heatmap(red_wine_data.corr(), annot=True);"
   ]
  },
  {
   "cell_type": "markdown",
   "metadata": {},
   "source": [
    "## Insights / Sanity Check Conclusions\n",
    "\n",
    "1. **Shape and data sufficiency: Check if there are sufficient rows of data for an ML problem ---> (DONE)**\n",
    "    1. **INSIGHT:** Shape of the data is (1599, 12). i.e., dataset contains ~1600 observations, which is much greater than number of columns (12). Hence we can apply ML techniques rather than statistical rule-based approach.\n",
    "\n",
    "\n",
    "2. **Datatypes: Check whether all the columns in the given dataset is numeric ---> (DONE)**\n",
    "    1. **INSIGHT:** `Dtype` indicates that all columns are numeric\n",
    "    \n",
    "\n",
    "3. **Missing Values: Check whether there are missing values ---->DONE**\n",
    "    1. **INSIGHT:** `Non-Null Count` indicates there are no missing values in the dataset\n",
    "\n",
    "\n",
    "4. **Zero-variance: Check if there are any zero variance column in the dataset ---> (DONE)**\n",
    "    1. **INSIGHT:** No zero-variance columns found in the dataset\n",
    "\n",
    "\n",
    "5. **Range of numbers in each column: Check if the column values within the dataset are in the same magnitude ---> (DONE)**\n",
    "    1. **INSIGHT:** Each column has numbers within the same magnitude\n",
    "\n",
    "\n",
    "6. **Correlation: Check correlation between feature columns & target -->DONE**\n",
    "    1. **INSIGHT:** The columns `pH`, `free sulfur dioxide`, `residual sugar` have very weak correlation (0.00 - 0.20)\n",
    "    2. **INSIGHT:** The columns `fixed acidity`, `citric acid`, `chlorides`, `total sulfur dioxide`, `density` have weak correlation (0.20 - 0.40)\n",
    "    3. ***Note:*** *absolute values of correlations were considered*\n",
    "\n",
    "\n",
    "7. **Other Observations:**\n",
    "    1. **INSIGHT:** Since (a) the target is given (b) target is continuous (number between 0..10), we can conclude that this is a supervised linear regression problem\n",
    "    2. **INSIGHT:** The target variable, i.e., `quality` has discrete values which indicates that this can be solved using classification methods also. However we will continue with Linear Regression in this exercise.\n"
   ]
  },
  {
   "cell_type": "markdown",
   "metadata": {},
   "source": [
    "# EDA/Preprocessing\n",
    "_(Based on the insights from the sanity check, we can now determine how to process the data.)_"
   ]
  },
  {
   "cell_type": "markdown",
   "metadata": {},
   "source": [
    "## Checklist of STANDARD EDA items\n",
    "\n",
    "1. Strategy for missing data\n",
    "    1. Action: No missing data, no action to be taken\n",
    "    \n",
    "    \n",
    "2. Convert categorical to numeric\n",
    "    1. Action: No Categorical data, no action to be taken\n",
    "    \n",
    "    \n",
    "3. Dimensionality reduction/Drop the identified columns\n",
    "    1. Action: Drop identified columns in Insights 6A and 6B\n",
    "    \n",
    "    \n",
    "4. Check for Outliers, Normalize data in columns to fit a range (*Optional*)\n",
    "    1. Action: As per Insights 5A there are no Outliers\n",
    "\n",
    "### Approach:\n",
    "We will follow a 3-step approach as outlined below:\n",
    "\n",
    "Step 1:\n",
    "1. First, we will process the complete dataset without dropping any columns.\n",
    "2. We will build the ML model with the complete data, test and validate the predictions.\n",
    "\n",
    "Step 2:\n",
    "1. As per Insights 6A, we will drop the columns that show very weak correlations. These columns are - `pH`, `free sulfur dioxide`, `residual sugar`\n",
    "2. The dataset will thus have 9 features (including target)\n",
    "3. We will build the ML model with the remaining data, test and validate the predictions\n",
    "\n",
    "Step 3:\n",
    "1. As per Insights 6B, we will next drop the columns that show weak correlations. These columns are - `fixed acidity`, `citric acid`, `chlorides`, `total sulfur dioxide`, `density`\n",
    "2. The dataset will thus have 4 features (including target)\n",
    "3. We will build the ML model with the remaining data, test and validate the predictions\n",
    "\n",
    "Step 4:\n",
    "1. Compare the Accuracy of all the three models developed\n",
    "2. Choose the best model for deployment\n"
   ]
  },
  {
   "cell_type": "markdown",
   "metadata": {},
   "source": [
    "#### Step 1:\n",
    "Build the ML model with the complete data, test and validate the predictions."
   ]
  },
  {
   "cell_type": "code",
   "execution_count": 10,
   "metadata": {
    "execution": {
     "iopub.execute_input": "2021-12-08T08:50:26.128858Z",
     "iopub.status.busy": "2021-12-08T08:50:26.128527Z",
     "iopub.status.idle": "2021-12-08T08:50:26.146538Z",
     "shell.execute_reply": "2021-12-08T08:50:26.145356Z",
     "shell.execute_reply.started": "2021-12-08T08:50:26.128814Z"
    }
   },
   "outputs": [
    {
     "name": "stdout",
     "output_type": "stream",
     "text": [
      "(1279, 11) (320, 11) (1279,) (320,)\n"
     ]
    }
   ],
   "source": [
    "lm_red_wine1 = LinearRegression()\n",
    "X = red_wine_data.drop('quality',axis=1)\n",
    "y = red_wine_data['quality']\n",
    "\n",
    "X_train, X_test, y_train, y_test = train_test_split(X, y, test_size=0.2, random_state=42)\n",
    "print(X_train.shape, X_test.shape, y_train.shape, y_test.shape)"
   ]
  },
  {
   "cell_type": "code",
   "execution_count": 11,
   "metadata": {
    "execution": {
     "iopub.execute_input": "2021-12-08T08:50:26.148367Z",
     "iopub.status.busy": "2021-12-08T08:50:26.147923Z",
     "iopub.status.idle": "2021-12-08T08:50:26.185171Z",
     "shell.execute_reply": "2021-12-08T08:50:26.184106Z",
     "shell.execute_reply.started": "2021-12-08T08:50:26.148324Z"
    }
   },
   "outputs": [],
   "source": [
    "red_model1 = lm_red_wine1.fit(X_train, y_train)"
   ]
  },
  {
   "cell_type": "code",
   "execution_count": 12,
   "metadata": {
    "execution": {
     "iopub.execute_input": "2021-12-08T08:50:26.191623Z",
     "iopub.status.busy": "2021-12-08T08:50:26.190854Z",
     "iopub.status.idle": "2021-12-08T08:50:26.216898Z",
     "shell.execute_reply": "2021-12-08T08:50:26.215809Z",
     "shell.execute_reply.started": "2021-12-08T08:50:26.191568Z"
    }
   },
   "outputs": [
    {
     "name": "stdout",
     "output_type": "stream",
     "text": [
      "\n",
      "first 20 training preds:\n",
      "\n",
      " [6, 6, 6, 5, 5, 6, 6, 6, 5, 6, 6, 7, 5, 5, 6, 6, 6, 6, 5, 5]\n"
     ]
    }
   ],
   "source": [
    "# computing yhat (ie train_predictions) using X (ie train_features)\n",
    "train_predictions = lm_red_wine1.predict(X_train)\n",
    "train_prediction = [int(round(x,0)) for x in train_predictions]\n",
    "print('\\nfirst 20 training preds:\\n\\n', train_prediction[:20])"
   ]
  },
  {
   "cell_type": "code",
   "execution_count": 13,
   "metadata": {
    "execution": {
     "iopub.execute_input": "2021-12-08T08:50:26.219198Z",
     "iopub.status.busy": "2021-12-08T08:50:26.218542Z",
     "iopub.status.idle": "2021-12-08T08:50:26.238826Z",
     "shell.execute_reply": "2021-12-08T08:50:26.237673Z",
     "shell.execute_reply.started": "2021-12-08T08:50:26.219139Z"
    }
   },
   "outputs": [],
   "source": [
    "def compare_prediction(y, yhat):\n",
    "    comp_matrix = pd.DataFrame(zip(y_train,train_prediction), columns = ['Actual', 'Predicted'])\n",
    "    comp_matrix['Err'] = abs(comp_matrix['Actual']-comp_matrix['Predicted'])\n",
    "    comp_matrix['PctErr'] = comp_matrix['Err']/comp_matrix['Actual'] * 100\n",
    "    mean_value = np.mean(comp_matrix['PctErr'])\n",
    "    mean_value\n",
    "    return comp_matrix, mean_value"
   ]
  },
  {
   "cell_type": "code",
   "execution_count": 14,
   "metadata": {
    "execution": {
     "iopub.execute_input": "2021-12-08T08:50:26.248324Z",
     "iopub.status.busy": "2021-12-08T08:50:26.247641Z",
     "iopub.status.idle": "2021-12-08T08:50:26.269908Z",
     "shell.execute_reply": "2021-12-08T08:50:26.268955Z",
     "shell.execute_reply.started": "2021-12-08T08:50:26.248266Z"
    }
   },
   "outputs": [
    {
     "name": "stdout",
     "output_type": "stream",
     "text": [
      "      Actual  Predicted  Err     PctErr\n",
      "0          6          6    0   0.000000\n",
      "1          6          6    0   0.000000\n",
      "2          6          6    0   0.000000\n",
      "3          5          5    0   0.000000\n",
      "4          5          5    0   0.000000\n",
      "...      ...        ...  ...        ...\n",
      "1274       6          6    0   0.000000\n",
      "1275       6          6    0   0.000000\n",
      "1276       5          5    0   0.000000\n",
      "1277       7          7    0   0.000000\n",
      "1278       6          7    1  16.666667\n",
      "\n",
      "[1279 rows x 4 columns] 8.055307345768645\n"
     ]
    }
   ],
   "source": [
    "comp_matrix, mean = compare_prediction(y, train_prediction)\n",
    "print(comp_matrix, mean)"
   ]
  },
  {
   "cell_type": "code",
   "execution_count": 15,
   "metadata": {
    "execution": {
     "iopub.execute_input": "2021-12-08T08:50:26.272287Z",
     "iopub.status.busy": "2021-12-08T08:50:26.271658Z",
     "iopub.status.idle": "2021-12-08T08:50:26.279119Z",
     "shell.execute_reply": "2021-12-08T08:50:26.278168Z",
     "shell.execute_reply.started": "2021-12-08T08:50:26.272220Z"
    }
   },
   "outputs": [
    {
     "name": "stdout",
     "output_type": "stream",
     "text": [
      "Accuracy1 =  91.94469265423136\n"
     ]
    }
   ],
   "source": [
    "accuracy1 = 100-mean\n",
    "print('Accuracy1 = ', accuracy1)"
   ]
  },
  {
   "cell_type": "markdown",
   "metadata": {},
   "source": [
    "#### Step 2:\n",
    "Drop pH, free sulfur dioxide, residual sugar columns.\n",
    "Build the ML model, test and validate the predictions."
   ]
  },
  {
   "cell_type": "code",
   "execution_count": 16,
   "metadata": {
    "execution": {
     "iopub.execute_input": "2021-12-08T08:50:26.281456Z",
     "iopub.status.busy": "2021-12-08T08:50:26.280897Z",
     "iopub.status.idle": "2021-12-08T08:50:26.315665Z",
     "shell.execute_reply": "2021-12-08T08:50:26.314683Z",
     "shell.execute_reply.started": "2021-12-08T08:50:26.281405Z"
    }
   },
   "outputs": [
    {
     "data": {
      "text/html": [
       "<div>\n",
       "<style scoped>\n",
       "    .dataframe tbody tr th:only-of-type {\n",
       "        vertical-align: middle;\n",
       "    }\n",
       "\n",
       "    .dataframe tbody tr th {\n",
       "        vertical-align: top;\n",
       "    }\n",
       "\n",
       "    .dataframe thead th {\n",
       "        text-align: right;\n",
       "    }\n",
       "</style>\n",
       "<table border=\"1\" class=\"dataframe\">\n",
       "  <thead>\n",
       "    <tr style=\"text-align: right;\">\n",
       "      <th></th>\n",
       "      <th>fixed acidity</th>\n",
       "      <th>volatile acidity</th>\n",
       "      <th>citric acid</th>\n",
       "      <th>chlorides</th>\n",
       "      <th>total sulfur dioxide</th>\n",
       "      <th>density</th>\n",
       "      <th>sulphates</th>\n",
       "      <th>alcohol</th>\n",
       "      <th>quality</th>\n",
       "    </tr>\n",
       "  </thead>\n",
       "  <tbody>\n",
       "    <tr>\n",
       "      <th>0</th>\n",
       "      <td>7.4</td>\n",
       "      <td>0.70</td>\n",
       "      <td>0.00</td>\n",
       "      <td>0.076</td>\n",
       "      <td>34.0</td>\n",
       "      <td>0.9978</td>\n",
       "      <td>0.56</td>\n",
       "      <td>9.4</td>\n",
       "      <td>5</td>\n",
       "    </tr>\n",
       "    <tr>\n",
       "      <th>1</th>\n",
       "      <td>7.8</td>\n",
       "      <td>0.88</td>\n",
       "      <td>0.00</td>\n",
       "      <td>0.098</td>\n",
       "      <td>67.0</td>\n",
       "      <td>0.9968</td>\n",
       "      <td>0.68</td>\n",
       "      <td>9.8</td>\n",
       "      <td>5</td>\n",
       "    </tr>\n",
       "    <tr>\n",
       "      <th>2</th>\n",
       "      <td>7.8</td>\n",
       "      <td>0.76</td>\n",
       "      <td>0.04</td>\n",
       "      <td>0.092</td>\n",
       "      <td>54.0</td>\n",
       "      <td>0.9970</td>\n",
       "      <td>0.65</td>\n",
       "      <td>9.8</td>\n",
       "      <td>5</td>\n",
       "    </tr>\n",
       "    <tr>\n",
       "      <th>3</th>\n",
       "      <td>11.2</td>\n",
       "      <td>0.28</td>\n",
       "      <td>0.56</td>\n",
       "      <td>0.075</td>\n",
       "      <td>60.0</td>\n",
       "      <td>0.9980</td>\n",
       "      <td>0.58</td>\n",
       "      <td>9.8</td>\n",
       "      <td>6</td>\n",
       "    </tr>\n",
       "    <tr>\n",
       "      <th>4</th>\n",
       "      <td>7.4</td>\n",
       "      <td>0.70</td>\n",
       "      <td>0.00</td>\n",
       "      <td>0.076</td>\n",
       "      <td>34.0</td>\n",
       "      <td>0.9978</td>\n",
       "      <td>0.56</td>\n",
       "      <td>9.4</td>\n",
       "      <td>5</td>\n",
       "    </tr>\n",
       "  </tbody>\n",
       "</table>\n",
       "</div>"
      ],
      "text/plain": [
       "   fixed acidity  volatile acidity  citric acid  chlorides  \\\n",
       "0            7.4              0.70         0.00      0.076   \n",
       "1            7.8              0.88         0.00      0.098   \n",
       "2            7.8              0.76         0.04      0.092   \n",
       "3           11.2              0.28         0.56      0.075   \n",
       "4            7.4              0.70         0.00      0.076   \n",
       "\n",
       "   total sulfur dioxide  density  sulphates  alcohol  quality  \n",
       "0                  34.0   0.9978       0.56      9.4        5  \n",
       "1                  67.0   0.9968       0.68      9.8        5  \n",
       "2                  54.0   0.9970       0.65      9.8        5  \n",
       "3                  60.0   0.9980       0.58      9.8        6  \n",
       "4                  34.0   0.9978       0.56      9.4        5  "
      ]
     },
     "execution_count": 16,
     "metadata": {},
     "output_type": "execute_result"
    }
   ],
   "source": [
    "### 3. Dimensionality reduction/Drop the identified columns\n",
    "# dropping very weak correlations\n",
    "lst = ['pH', 'free sulfur dioxide', 'residual sugar']\n",
    "red_wine_data.drop(lst, axis =1, inplace = True)\n",
    "\n",
    "red_wine_data.head()"
   ]
  },
  {
   "cell_type": "code",
   "execution_count": 17,
   "metadata": {
    "execution": {
     "iopub.execute_input": "2021-12-08T08:50:26.317947Z",
     "iopub.status.busy": "2021-12-08T08:50:26.317392Z",
     "iopub.status.idle": "2021-12-08T08:50:26.338333Z",
     "shell.execute_reply": "2021-12-08T08:50:26.337084Z",
     "shell.execute_reply.started": "2021-12-08T08:50:26.317909Z"
    }
   },
   "outputs": [],
   "source": [
    "lm_red_wine2 = LinearRegression()\n",
    "X = red_wine_data.drop('quality',axis=1)\n",
    "y = red_wine_data['quality']\n",
    "\n",
    "X_train, X_test, y_train, y_test = train_test_split(X, y, test_size=0.2, random_state=42)\n",
    "red_model2 = lm_red_wine2.fit(X_train, y_train)"
   ]
  },
  {
   "cell_type": "code",
   "execution_count": 18,
   "metadata": {
    "execution": {
     "iopub.execute_input": "2021-12-08T08:50:26.340097Z",
     "iopub.status.busy": "2021-12-08T08:50:26.339612Z",
     "iopub.status.idle": "2021-12-08T08:50:26.357538Z",
     "shell.execute_reply": "2021-12-08T08:50:26.356456Z",
     "shell.execute_reply.started": "2021-12-08T08:50:26.340049Z"
    }
   },
   "outputs": [],
   "source": [
    "# computing yhat (ie train_predictions) using X (ie train_features)\n",
    "train_predictions = lm_red_wine2.predict(X_train)\n",
    "train_prediction = [int(round(x,0)) for x in train_predictions] "
   ]
  },
  {
   "cell_type": "code",
   "execution_count": 19,
   "metadata": {
    "execution": {
     "iopub.execute_input": "2021-12-08T08:50:26.360003Z",
     "iopub.status.busy": "2021-12-08T08:50:26.359029Z",
     "iopub.status.idle": "2021-12-08T08:50:26.365630Z",
     "shell.execute_reply": "2021-12-08T08:50:26.364851Z",
     "shell.execute_reply.started": "2021-12-08T08:50:26.359960Z"
    }
   },
   "outputs": [
    {
     "name": "stdout",
     "output_type": "stream",
     "text": [
      "Accuracy2 = 91.94469265423136\n"
     ]
    }
   ],
   "source": [
    "accuracy2 =100-mean\n",
    "print(\"Accuracy2 =\", accuracy2)"
   ]
  },
  {
   "cell_type": "markdown",
   "metadata": {},
   "source": [
    "#### Step 3:\n",
    "Drop columns fixed acidity, citric acid, chlorides, total sulfur dioxide, density.Build the ML model, test and validate the predictions."
   ]
  },
  {
   "cell_type": "code",
   "execution_count": 20,
   "metadata": {
    "execution": {
     "iopub.execute_input": "2021-12-08T08:50:26.367693Z",
     "iopub.status.busy": "2021-12-08T08:50:26.367218Z",
     "iopub.status.idle": "2021-12-08T08:50:26.380299Z",
     "shell.execute_reply": "2021-12-08T08:50:26.379249Z",
     "shell.execute_reply.started": "2021-12-08T08:50:26.367651Z"
    }
   },
   "outputs": [],
   "source": [
    "lst = ['fixed acidity', 'citric acid', 'chlorides', 'total sulfur dioxide', 'density']\n",
    "red_wine_data.drop(lst, axis =1, inplace = True)"
   ]
  },
  {
   "cell_type": "code",
   "execution_count": 21,
   "metadata": {
    "execution": {
     "iopub.execute_input": "2021-12-08T08:50:26.382320Z",
     "iopub.status.busy": "2021-12-08T08:50:26.381826Z",
     "iopub.status.idle": "2021-12-08T08:50:26.399546Z",
     "shell.execute_reply": "2021-12-08T08:50:26.398115Z",
     "shell.execute_reply.started": "2021-12-08T08:50:26.382275Z"
    }
   },
   "outputs": [],
   "source": [
    "lm_red_wine3 = LinearRegression()\n",
    "X = red_wine_data.drop('quality',axis=1)\n",
    "y = red_wine_data['quality']\n",
    "X_train, X_test, y_train, y_test = train_test_split(X, y, test_size=0.2, random_state=42)\n",
    "red_model3 = lm_red_wine3.fit(X_train, y_train)"
   ]
  },
  {
   "cell_type": "code",
   "execution_count": 22,
   "metadata": {
    "execution": {
     "iopub.execute_input": "2021-12-08T08:50:26.402059Z",
     "iopub.status.busy": "2021-12-08T08:50:26.401408Z",
     "iopub.status.idle": "2021-12-08T08:50:26.418570Z",
     "shell.execute_reply": "2021-12-08T08:50:26.417153Z",
     "shell.execute_reply.started": "2021-12-08T08:50:26.402016Z"
    }
   },
   "outputs": [],
   "source": [
    "# computing yhat (ie train_predictions) using X (ie train_features)\n",
    "train_predictions = lm_red_wine3.predict(X_train)\n",
    "train_prediction = [int(round(x,0)) for x in train_predictions]"
   ]
  },
  {
   "cell_type": "code",
   "execution_count": 23,
   "metadata": {
    "execution": {
     "iopub.execute_input": "2021-12-08T08:50:26.420594Z",
     "iopub.status.busy": "2021-12-08T08:50:26.420140Z",
     "iopub.status.idle": "2021-12-08T08:50:26.440453Z",
     "shell.execute_reply": "2021-12-08T08:50:26.439578Z",
     "shell.execute_reply.started": "2021-12-08T08:50:26.420550Z"
    }
   },
   "outputs": [
    {
     "name": "stdout",
     "output_type": "stream",
     "text": [
      "      Actual  Predicted  Err     PctErr\n",
      "0          6          6    0   0.000000\n",
      "1          6          6    0   0.000000\n",
      "2          6          6    0   0.000000\n",
      "3          5          5    0   0.000000\n",
      "4          5          5    0   0.000000\n",
      "...      ...        ...  ...        ...\n",
      "1274       6          6    0   0.000000\n",
      "1275       6          6    0   0.000000\n",
      "1276       5          5    0   0.000000\n",
      "1277       7          7    0   0.000000\n",
      "1278       6          7    1  16.666667\n",
      "\n",
      "[1279 rows x 4 columns] 8.14066048624297\n"
     ]
    }
   ],
   "source": [
    "comp_matrix, mean = compare_prediction(y, train_prediction)\n",
    "print(comp_matrix, mean)"
   ]
  },
  {
   "cell_type": "code",
   "execution_count": 24,
   "metadata": {
    "execution": {
     "iopub.execute_input": "2021-12-08T08:50:26.442386Z",
     "iopub.status.busy": "2021-12-08T08:50:26.441938Z",
     "iopub.status.idle": "2021-12-08T08:50:26.448158Z",
     "shell.execute_reply": "2021-12-08T08:50:26.447302Z",
     "shell.execute_reply.started": "2021-12-08T08:50:26.442345Z"
    }
   },
   "outputs": [
    {
     "name": "stdout",
     "output_type": "stream",
     "text": [
      "Accuracy3  91.85933951375704\n"
     ]
    }
   ],
   "source": [
    "accuracy3 = 100-mean\n",
    "print(\"Accuracy3 \",accuracy3 )"
   ]
  },
  {
   "cell_type": "markdown",
   "metadata": {},
   "source": [
    "#### Step 4:\n",
    "\n",
    "Compare the Accuracy of all the three models developed\n"
   ]
  },
  {
   "cell_type": "code",
   "execution_count": 25,
   "metadata": {
    "execution": {
     "iopub.execute_input": "2021-12-08T08:50:26.450510Z",
     "iopub.status.busy": "2021-12-08T08:50:26.449840Z",
     "iopub.status.idle": "2021-12-08T08:50:26.459822Z",
     "shell.execute_reply": "2021-12-08T08:50:26.458908Z",
     "shell.execute_reply.started": "2021-12-08T08:50:26.450462Z"
    }
   },
   "outputs": [
    {
     "name": "stdout",
     "output_type": "stream",
     "text": [
      "Model1 Accuracy 91.94469265423136\n",
      "Model2 Accuracy 91.94469265423136\n",
      "Model3 Accuracy 91.85933951375704\n"
     ]
    }
   ],
   "source": [
    "print(\"Model1 Accuracy {}\".format(accuracy1))\n",
    "print(\"Model2 Accuracy {}\".format(accuracy2))\n",
    "print(\"Model3 Accuracy {}\".format(accuracy3))"
   ]
  },
  {
   "cell_type": "markdown",
   "metadata": {},
   "source": [
    "#### Choose the best model for deployment.\n",
    "\n",
    "Since we are getting the same accuracy across models, we are going for model3 as it has least number of features."
   ]
  },
  {
   "cell_type": "markdown",
   "metadata": {},
   "source": [
    "# Model Saving"
   ]
  },
  {
   "cell_type": "code",
   "execution_count": 26,
   "metadata": {
    "execution": {
     "iopub.execute_input": "2021-12-08T08:50:26.462827Z",
     "iopub.status.busy": "2021-12-08T08:50:26.462295Z",
     "iopub.status.idle": "2021-12-08T08:50:26.469522Z",
     "shell.execute_reply": "2021-12-08T08:50:26.468607Z",
     "shell.execute_reply.started": "2021-12-08T08:50:26.462757Z"
    }
   },
   "outputs": [],
   "source": [
    "model_file = open('models/red_wine_model.pkl', 'wb')\n",
    "pickle.dump(obj=red_model3, file=model_file)\n",
    "model_file.close()"
   ]
  },
  {
   "cell_type": "code",
   "execution_count": 27,
   "metadata": {
    "execution": {
     "iopub.execute_input": "2021-12-08T08:50:26.471574Z",
     "iopub.status.busy": "2021-12-08T08:50:26.470717Z",
     "iopub.status.idle": "2021-12-08T08:50:26.482800Z",
     "shell.execute_reply": "2021-12-08T08:50:26.481831Z",
     "shell.execute_reply.started": "2021-12-08T08:50:26.471527Z"
    }
   },
   "outputs": [
    {
     "name": "stdout",
     "output_type": "stream",
     "text": [
      "LinearRegression()\n"
     ]
    }
   ],
   "source": [
    "# reload the model from disk and check if it is saved properly\n",
    "model_file = open('models/red_wine_model.pkl', 'rb')\n",
    "lr_model = pickle.load(model_file)\n",
    "model_file.close()\n",
    "print(lr_model)"
   ]
  },
  {
   "cell_type": "markdown",
   "metadata": {},
   "source": [
    "## Section 2 - White Wine Analysis, Model Creation and Saving"
   ]
  },
  {
   "cell_type": "code",
   "execution_count": 28,
   "metadata": {
    "execution": {
     "iopub.execute_input": "2021-12-08T08:50:26.484637Z",
     "iopub.status.busy": "2021-12-08T08:50:26.484084Z",
     "iopub.status.idle": "2021-12-08T08:50:26.528525Z",
     "shell.execute_reply": "2021-12-08T08:50:26.527915Z",
     "shell.execute_reply.started": "2021-12-08T08:50:26.484600Z"
    }
   },
   "outputs": [
    {
     "data": {
      "text/html": [
       "<div>\n",
       "<style scoped>\n",
       "    .dataframe tbody tr th:only-of-type {\n",
       "        vertical-align: middle;\n",
       "    }\n",
       "\n",
       "    .dataframe tbody tr th {\n",
       "        vertical-align: top;\n",
       "    }\n",
       "\n",
       "    .dataframe thead th {\n",
       "        text-align: right;\n",
       "    }\n",
       "</style>\n",
       "<table border=\"1\" class=\"dataframe\">\n",
       "  <thead>\n",
       "    <tr style=\"text-align: right;\">\n",
       "      <th></th>\n",
       "      <th>fixed acidity</th>\n",
       "      <th>volatile acidity</th>\n",
       "      <th>citric acid</th>\n",
       "      <th>residual sugar</th>\n",
       "      <th>chlorides</th>\n",
       "      <th>free sulfur dioxide</th>\n",
       "      <th>total sulfur dioxide</th>\n",
       "      <th>density</th>\n",
       "      <th>pH</th>\n",
       "      <th>sulphates</th>\n",
       "      <th>alcohol</th>\n",
       "      <th>quality</th>\n",
       "    </tr>\n",
       "  </thead>\n",
       "  <tbody>\n",
       "    <tr>\n",
       "      <th>0</th>\n",
       "      <td>7.0</td>\n",
       "      <td>0.27</td>\n",
       "      <td>0.36</td>\n",
       "      <td>20.7</td>\n",
       "      <td>0.045</td>\n",
       "      <td>45.0</td>\n",
       "      <td>170.0</td>\n",
       "      <td>1.0010</td>\n",
       "      <td>3.00</td>\n",
       "      <td>0.45</td>\n",
       "      <td>8.8</td>\n",
       "      <td>6</td>\n",
       "    </tr>\n",
       "    <tr>\n",
       "      <th>1</th>\n",
       "      <td>6.3</td>\n",
       "      <td>0.30</td>\n",
       "      <td>0.34</td>\n",
       "      <td>1.6</td>\n",
       "      <td>0.049</td>\n",
       "      <td>14.0</td>\n",
       "      <td>132.0</td>\n",
       "      <td>0.9940</td>\n",
       "      <td>3.30</td>\n",
       "      <td>0.49</td>\n",
       "      <td>9.5</td>\n",
       "      <td>6</td>\n",
       "    </tr>\n",
       "    <tr>\n",
       "      <th>2</th>\n",
       "      <td>8.1</td>\n",
       "      <td>0.28</td>\n",
       "      <td>0.40</td>\n",
       "      <td>6.9</td>\n",
       "      <td>0.050</td>\n",
       "      <td>30.0</td>\n",
       "      <td>97.0</td>\n",
       "      <td>0.9951</td>\n",
       "      <td>3.26</td>\n",
       "      <td>0.44</td>\n",
       "      <td>10.1</td>\n",
       "      <td>6</td>\n",
       "    </tr>\n",
       "    <tr>\n",
       "      <th>3</th>\n",
       "      <td>7.2</td>\n",
       "      <td>0.23</td>\n",
       "      <td>0.32</td>\n",
       "      <td>8.5</td>\n",
       "      <td>0.058</td>\n",
       "      <td>47.0</td>\n",
       "      <td>186.0</td>\n",
       "      <td>0.9956</td>\n",
       "      <td>3.19</td>\n",
       "      <td>0.40</td>\n",
       "      <td>9.9</td>\n",
       "      <td>6</td>\n",
       "    </tr>\n",
       "    <tr>\n",
       "      <th>4</th>\n",
       "      <td>7.2</td>\n",
       "      <td>0.23</td>\n",
       "      <td>0.32</td>\n",
       "      <td>8.5</td>\n",
       "      <td>0.058</td>\n",
       "      <td>47.0</td>\n",
       "      <td>186.0</td>\n",
       "      <td>0.9956</td>\n",
       "      <td>3.19</td>\n",
       "      <td>0.40</td>\n",
       "      <td>9.9</td>\n",
       "      <td>6</td>\n",
       "    </tr>\n",
       "  </tbody>\n",
       "</table>\n",
       "</div>"
      ],
      "text/plain": [
       "   fixed acidity  volatile acidity  citric acid  residual sugar  chlorides  \\\n",
       "0            7.0              0.27         0.36            20.7      0.045   \n",
       "1            6.3              0.30         0.34             1.6      0.049   \n",
       "2            8.1              0.28         0.40             6.9      0.050   \n",
       "3            7.2              0.23         0.32             8.5      0.058   \n",
       "4            7.2              0.23         0.32             8.5      0.058   \n",
       "\n",
       "   free sulfur dioxide  total sulfur dioxide  density    pH  sulphates  \\\n",
       "0                 45.0                 170.0   1.0010  3.00       0.45   \n",
       "1                 14.0                 132.0   0.9940  3.30       0.49   \n",
       "2                 30.0                  97.0   0.9951  3.26       0.44   \n",
       "3                 47.0                 186.0   0.9956  3.19       0.40   \n",
       "4                 47.0                 186.0   0.9956  3.19       0.40   \n",
       "\n",
       "   alcohol  quality  \n",
       "0      8.8        6  \n",
       "1      9.5        6  \n",
       "2     10.1        6  \n",
       "3      9.9        6  \n",
       "4      9.9        6  "
      ]
     },
     "execution_count": 28,
     "metadata": {},
     "output_type": "execute_result"
    }
   ],
   "source": [
    "#### Read the white wine quality dataset\n",
    "\n",
    "white_wine_data = pd.read_csv('datasets/winequality-white.csv', delimiter = ';')\n",
    "\n",
    "white_wine_data.head()"
   ]
  },
  {
   "cell_type": "code",
   "execution_count": 29,
   "metadata": {
    "execution": {
     "iopub.execute_input": "2021-12-08T08:50:26.530062Z",
     "iopub.status.busy": "2021-12-08T08:50:26.529670Z",
     "iopub.status.idle": "2021-12-08T08:50:26.535275Z",
     "shell.execute_reply": "2021-12-08T08:50:26.534474Z",
     "shell.execute_reply.started": "2021-12-08T08:50:26.530017Z"
    }
   },
   "outputs": [
    {
     "data": {
      "text/plain": [
       "(4898, 12)"
      ]
     },
     "execution_count": 29,
     "metadata": {},
     "output_type": "execute_result"
    }
   ],
   "source": [
    "# 1 Shape\n",
    "white_wine_data.shape"
   ]
  },
  {
   "cell_type": "code",
   "execution_count": 30,
   "metadata": {
    "execution": {
     "iopub.execute_input": "2021-12-08T08:50:26.536891Z",
     "iopub.status.busy": "2021-12-08T08:50:26.536641Z",
     "iopub.status.idle": "2021-12-08T08:50:26.549641Z",
     "shell.execute_reply": "2021-12-08T08:50:26.548680Z",
     "shell.execute_reply.started": "2021-12-08T08:50:26.536861Z"
    }
   },
   "outputs": [
    {
     "data": {
      "text/plain": [
       "fixed acidity           float64\n",
       "volatile acidity        float64\n",
       "citric acid             float64\n",
       "residual sugar          float64\n",
       "chlorides               float64\n",
       "free sulfur dioxide     float64\n",
       "total sulfur dioxide    float64\n",
       "density                 float64\n",
       "pH                      float64\n",
       "sulphates               float64\n",
       "alcohol                 float64\n",
       "quality                   int64\n",
       "dtype: object"
      ]
     },
     "execution_count": 30,
     "metadata": {},
     "output_type": "execute_result"
    }
   ],
   "source": [
    "# 3 Datatypes\n",
    "white_wine_data.dtypes"
   ]
  },
  {
   "cell_type": "code",
   "execution_count": 31,
   "metadata": {
    "execution": {
     "iopub.execute_input": "2021-12-08T08:50:26.551353Z",
     "iopub.status.busy": "2021-12-08T08:50:26.550977Z",
     "iopub.status.idle": "2021-12-08T08:50:26.564520Z",
     "shell.execute_reply": "2021-12-08T08:50:26.563918Z",
     "shell.execute_reply.started": "2021-12-08T08:50:26.551307Z"
    }
   },
   "outputs": [
    {
     "name": "stdout",
     "output_type": "stream",
     "text": [
      "<class 'pandas.core.frame.DataFrame'>\n",
      "RangeIndex: 4898 entries, 0 to 4897\n",
      "Data columns (total 12 columns):\n",
      " #   Column                Non-Null Count  Dtype  \n",
      "---  ------                --------------  -----  \n",
      " 0   fixed acidity         4898 non-null   float64\n",
      " 1   volatile acidity      4898 non-null   float64\n",
      " 2   citric acid           4898 non-null   float64\n",
      " 3   residual sugar        4898 non-null   float64\n",
      " 4   chlorides             4898 non-null   float64\n",
      " 5   free sulfur dioxide   4898 non-null   float64\n",
      " 6   total sulfur dioxide  4898 non-null   float64\n",
      " 7   density               4898 non-null   float64\n",
      " 8   pH                    4898 non-null   float64\n",
      " 9   sulphates             4898 non-null   float64\n",
      " 10  alcohol               4898 non-null   float64\n",
      " 11  quality               4898 non-null   int64  \n",
      "dtypes: float64(11), int64(1)\n",
      "memory usage: 459.3 KB\n"
     ]
    }
   ],
   "source": [
    "white_wine_data.info()"
   ]
  },
  {
   "cell_type": "code",
   "execution_count": 32,
   "metadata": {
    "execution": {
     "iopub.execute_input": "2021-12-08T08:50:26.566189Z",
     "iopub.status.busy": "2021-12-08T08:50:26.565689Z",
     "iopub.status.idle": "2021-12-08T08:50:26.573703Z",
     "shell.execute_reply": "2021-12-08T08:50:26.572716Z",
     "shell.execute_reply.started": "2021-12-08T08:50:26.566146Z"
    }
   },
   "outputs": [
    {
     "data": {
      "text/plain": [
       "6    2198\n",
       "5    1457\n",
       "7     880\n",
       "8     175\n",
       "4     163\n",
       "3      20\n",
       "9       5\n",
       "Name: quality, dtype: int64"
      ]
     },
     "execution_count": 32,
     "metadata": {},
     "output_type": "execute_result"
    }
   ],
   "source": [
    "white_wine_data['quality'].value_counts()"
   ]
  },
  {
   "cell_type": "code",
   "execution_count": 33,
   "metadata": {
    "execution": {
     "iopub.execute_input": "2021-12-08T08:50:26.575567Z",
     "iopub.status.busy": "2021-12-08T08:50:26.574723Z",
     "iopub.status.idle": "2021-12-08T08:50:26.596630Z",
     "shell.execute_reply": "2021-12-08T08:50:26.595710Z",
     "shell.execute_reply.started": "2021-12-08T08:50:26.575521Z"
    }
   },
   "outputs": [
    {
     "name": "stdout",
     "output_type": "stream",
     "text": [
      "fixed acidity 68\n",
      "volatile acidity 125\n",
      "citric acid 87\n",
      "residual sugar 310\n",
      "chlorides 160\n",
      "free sulfur dioxide 132\n",
      "total sulfur dioxide 251\n",
      "density 890\n",
      "pH 103\n",
      "sulphates 79\n",
      "alcohol 103\n",
      "quality 7\n"
     ]
    }
   ],
   "source": [
    "#4 zero variance column needs to be removed. \n",
    "\n",
    "for col in white_wine_data:\n",
    "    print(col, white_wine_data[col].value_counts().count())\n",
    "    \n",
    "#Since none of the column is invariant"
   ]
  },
  {
   "cell_type": "code",
   "execution_count": 34,
   "metadata": {
    "execution": {
     "iopub.execute_input": "2021-12-08T08:50:26.598456Z",
     "iopub.status.busy": "2021-12-08T08:50:26.598191Z",
     "iopub.status.idle": "2021-12-08T08:50:26.625263Z",
     "shell.execute_reply": "2021-12-08T08:50:26.624417Z",
     "shell.execute_reply.started": "2021-12-08T08:50:26.598426Z"
    }
   },
   "outputs": [
    {
     "data": {
      "text/html": [
       "<div>\n",
       "<style scoped>\n",
       "    .dataframe tbody tr th:only-of-type {\n",
       "        vertical-align: middle;\n",
       "    }\n",
       "\n",
       "    .dataframe tbody tr th {\n",
       "        vertical-align: top;\n",
       "    }\n",
       "\n",
       "    .dataframe thead th {\n",
       "        text-align: right;\n",
       "    }\n",
       "</style>\n",
       "<table border=\"1\" class=\"dataframe\">\n",
       "  <thead>\n",
       "    <tr style=\"text-align: right;\">\n",
       "      <th></th>\n",
       "      <th>fixed acidity</th>\n",
       "      <th>volatile acidity</th>\n",
       "      <th>citric acid</th>\n",
       "      <th>residual sugar</th>\n",
       "      <th>chlorides</th>\n",
       "      <th>free sulfur dioxide</th>\n",
       "      <th>total sulfur dioxide</th>\n",
       "      <th>density</th>\n",
       "      <th>pH</th>\n",
       "      <th>sulphates</th>\n",
       "      <th>alcohol</th>\n",
       "      <th>quality</th>\n",
       "    </tr>\n",
       "  </thead>\n",
       "  <tbody>\n",
       "    <tr>\n",
       "      <th>fixed acidity</th>\n",
       "      <td>1.000000</td>\n",
       "      <td>-0.022697</td>\n",
       "      <td>0.289181</td>\n",
       "      <td>0.089021</td>\n",
       "      <td>0.023086</td>\n",
       "      <td>-0.049396</td>\n",
       "      <td>0.091070</td>\n",
       "      <td>0.265331</td>\n",
       "      <td>-0.425858</td>\n",
       "      <td>-0.017143</td>\n",
       "      <td>-0.120881</td>\n",
       "      <td>-0.113663</td>\n",
       "    </tr>\n",
       "    <tr>\n",
       "      <th>volatile acidity</th>\n",
       "      <td>-0.022697</td>\n",
       "      <td>1.000000</td>\n",
       "      <td>-0.149472</td>\n",
       "      <td>0.064286</td>\n",
       "      <td>0.070512</td>\n",
       "      <td>-0.097012</td>\n",
       "      <td>0.089261</td>\n",
       "      <td>0.027114</td>\n",
       "      <td>-0.031915</td>\n",
       "      <td>-0.035728</td>\n",
       "      <td>0.067718</td>\n",
       "      <td>-0.194723</td>\n",
       "    </tr>\n",
       "    <tr>\n",
       "      <th>citric acid</th>\n",
       "      <td>0.289181</td>\n",
       "      <td>-0.149472</td>\n",
       "      <td>1.000000</td>\n",
       "      <td>0.094212</td>\n",
       "      <td>0.114364</td>\n",
       "      <td>0.094077</td>\n",
       "      <td>0.121131</td>\n",
       "      <td>0.149503</td>\n",
       "      <td>-0.163748</td>\n",
       "      <td>0.062331</td>\n",
       "      <td>-0.075729</td>\n",
       "      <td>-0.009209</td>\n",
       "    </tr>\n",
       "    <tr>\n",
       "      <th>residual sugar</th>\n",
       "      <td>0.089021</td>\n",
       "      <td>0.064286</td>\n",
       "      <td>0.094212</td>\n",
       "      <td>1.000000</td>\n",
       "      <td>0.088685</td>\n",
       "      <td>0.299098</td>\n",
       "      <td>0.401439</td>\n",
       "      <td>0.838966</td>\n",
       "      <td>-0.194133</td>\n",
       "      <td>-0.026664</td>\n",
       "      <td>-0.450631</td>\n",
       "      <td>-0.097577</td>\n",
       "    </tr>\n",
       "    <tr>\n",
       "      <th>chlorides</th>\n",
       "      <td>0.023086</td>\n",
       "      <td>0.070512</td>\n",
       "      <td>0.114364</td>\n",
       "      <td>0.088685</td>\n",
       "      <td>1.000000</td>\n",
       "      <td>0.101392</td>\n",
       "      <td>0.198910</td>\n",
       "      <td>0.257211</td>\n",
       "      <td>-0.090439</td>\n",
       "      <td>0.016763</td>\n",
       "      <td>-0.360189</td>\n",
       "      <td>-0.209934</td>\n",
       "    </tr>\n",
       "    <tr>\n",
       "      <th>free sulfur dioxide</th>\n",
       "      <td>-0.049396</td>\n",
       "      <td>-0.097012</td>\n",
       "      <td>0.094077</td>\n",
       "      <td>0.299098</td>\n",
       "      <td>0.101392</td>\n",
       "      <td>1.000000</td>\n",
       "      <td>0.615501</td>\n",
       "      <td>0.294210</td>\n",
       "      <td>-0.000618</td>\n",
       "      <td>0.059217</td>\n",
       "      <td>-0.250104</td>\n",
       "      <td>0.008158</td>\n",
       "    </tr>\n",
       "    <tr>\n",
       "      <th>total sulfur dioxide</th>\n",
       "      <td>0.091070</td>\n",
       "      <td>0.089261</td>\n",
       "      <td>0.121131</td>\n",
       "      <td>0.401439</td>\n",
       "      <td>0.198910</td>\n",
       "      <td>0.615501</td>\n",
       "      <td>1.000000</td>\n",
       "      <td>0.529881</td>\n",
       "      <td>0.002321</td>\n",
       "      <td>0.134562</td>\n",
       "      <td>-0.448892</td>\n",
       "      <td>-0.174737</td>\n",
       "    </tr>\n",
       "    <tr>\n",
       "      <th>density</th>\n",
       "      <td>0.265331</td>\n",
       "      <td>0.027114</td>\n",
       "      <td>0.149503</td>\n",
       "      <td>0.838966</td>\n",
       "      <td>0.257211</td>\n",
       "      <td>0.294210</td>\n",
       "      <td>0.529881</td>\n",
       "      <td>1.000000</td>\n",
       "      <td>-0.093591</td>\n",
       "      <td>0.074493</td>\n",
       "      <td>-0.780138</td>\n",
       "      <td>-0.307123</td>\n",
       "    </tr>\n",
       "    <tr>\n",
       "      <th>pH</th>\n",
       "      <td>-0.425858</td>\n",
       "      <td>-0.031915</td>\n",
       "      <td>-0.163748</td>\n",
       "      <td>-0.194133</td>\n",
       "      <td>-0.090439</td>\n",
       "      <td>-0.000618</td>\n",
       "      <td>0.002321</td>\n",
       "      <td>-0.093591</td>\n",
       "      <td>1.000000</td>\n",
       "      <td>0.155951</td>\n",
       "      <td>0.121432</td>\n",
       "      <td>0.099427</td>\n",
       "    </tr>\n",
       "    <tr>\n",
       "      <th>sulphates</th>\n",
       "      <td>-0.017143</td>\n",
       "      <td>-0.035728</td>\n",
       "      <td>0.062331</td>\n",
       "      <td>-0.026664</td>\n",
       "      <td>0.016763</td>\n",
       "      <td>0.059217</td>\n",
       "      <td>0.134562</td>\n",
       "      <td>0.074493</td>\n",
       "      <td>0.155951</td>\n",
       "      <td>1.000000</td>\n",
       "      <td>-0.017433</td>\n",
       "      <td>0.053678</td>\n",
       "    </tr>\n",
       "    <tr>\n",
       "      <th>alcohol</th>\n",
       "      <td>-0.120881</td>\n",
       "      <td>0.067718</td>\n",
       "      <td>-0.075729</td>\n",
       "      <td>-0.450631</td>\n",
       "      <td>-0.360189</td>\n",
       "      <td>-0.250104</td>\n",
       "      <td>-0.448892</td>\n",
       "      <td>-0.780138</td>\n",
       "      <td>0.121432</td>\n",
       "      <td>-0.017433</td>\n",
       "      <td>1.000000</td>\n",
       "      <td>0.435575</td>\n",
       "    </tr>\n",
       "    <tr>\n",
       "      <th>quality</th>\n",
       "      <td>-0.113663</td>\n",
       "      <td>-0.194723</td>\n",
       "      <td>-0.009209</td>\n",
       "      <td>-0.097577</td>\n",
       "      <td>-0.209934</td>\n",
       "      <td>0.008158</td>\n",
       "      <td>-0.174737</td>\n",
       "      <td>-0.307123</td>\n",
       "      <td>0.099427</td>\n",
       "      <td>0.053678</td>\n",
       "      <td>0.435575</td>\n",
       "      <td>1.000000</td>\n",
       "    </tr>\n",
       "  </tbody>\n",
       "</table>\n",
       "</div>"
      ],
      "text/plain": [
       "                      fixed acidity  volatile acidity  citric acid  \\\n",
       "fixed acidity              1.000000         -0.022697     0.289181   \n",
       "volatile acidity          -0.022697          1.000000    -0.149472   \n",
       "citric acid                0.289181         -0.149472     1.000000   \n",
       "residual sugar             0.089021          0.064286     0.094212   \n",
       "chlorides                  0.023086          0.070512     0.114364   \n",
       "free sulfur dioxide       -0.049396         -0.097012     0.094077   \n",
       "total sulfur dioxide       0.091070          0.089261     0.121131   \n",
       "density                    0.265331          0.027114     0.149503   \n",
       "pH                        -0.425858         -0.031915    -0.163748   \n",
       "sulphates                 -0.017143         -0.035728     0.062331   \n",
       "alcohol                   -0.120881          0.067718    -0.075729   \n",
       "quality                   -0.113663         -0.194723    -0.009209   \n",
       "\n",
       "                      residual sugar  chlorides  free sulfur dioxide  \\\n",
       "fixed acidity               0.089021   0.023086            -0.049396   \n",
       "volatile acidity            0.064286   0.070512            -0.097012   \n",
       "citric acid                 0.094212   0.114364             0.094077   \n",
       "residual sugar              1.000000   0.088685             0.299098   \n",
       "chlorides                   0.088685   1.000000             0.101392   \n",
       "free sulfur dioxide         0.299098   0.101392             1.000000   \n",
       "total sulfur dioxide        0.401439   0.198910             0.615501   \n",
       "density                     0.838966   0.257211             0.294210   \n",
       "pH                         -0.194133  -0.090439            -0.000618   \n",
       "sulphates                  -0.026664   0.016763             0.059217   \n",
       "alcohol                    -0.450631  -0.360189            -0.250104   \n",
       "quality                    -0.097577  -0.209934             0.008158   \n",
       "\n",
       "                      total sulfur dioxide   density        pH  sulphates  \\\n",
       "fixed acidity                     0.091070  0.265331 -0.425858  -0.017143   \n",
       "volatile acidity                  0.089261  0.027114 -0.031915  -0.035728   \n",
       "citric acid                       0.121131  0.149503 -0.163748   0.062331   \n",
       "residual sugar                    0.401439  0.838966 -0.194133  -0.026664   \n",
       "chlorides                         0.198910  0.257211 -0.090439   0.016763   \n",
       "free sulfur dioxide               0.615501  0.294210 -0.000618   0.059217   \n",
       "total sulfur dioxide              1.000000  0.529881  0.002321   0.134562   \n",
       "density                           0.529881  1.000000 -0.093591   0.074493   \n",
       "pH                                0.002321 -0.093591  1.000000   0.155951   \n",
       "sulphates                         0.134562  0.074493  0.155951   1.000000   \n",
       "alcohol                          -0.448892 -0.780138  0.121432  -0.017433   \n",
       "quality                          -0.174737 -0.307123  0.099427   0.053678   \n",
       "\n",
       "                       alcohol   quality  \n",
       "fixed acidity        -0.120881 -0.113663  \n",
       "volatile acidity      0.067718 -0.194723  \n",
       "citric acid          -0.075729 -0.009209  \n",
       "residual sugar       -0.450631 -0.097577  \n",
       "chlorides            -0.360189 -0.209934  \n",
       "free sulfur dioxide  -0.250104  0.008158  \n",
       "total sulfur dioxide -0.448892 -0.174737  \n",
       "density              -0.780138 -0.307123  \n",
       "pH                    0.121432  0.099427  \n",
       "sulphates            -0.017433  0.053678  \n",
       "alcohol               1.000000  0.435575  \n",
       "quality               0.435575  1.000000  "
      ]
     },
     "execution_count": 34,
     "metadata": {},
     "output_type": "execute_result"
    }
   ],
   "source": [
    "# 4 Relationship between features & the target\n",
    "white_wine_data.corr()"
   ]
  },
  {
   "cell_type": "code",
   "execution_count": 35,
   "metadata": {
    "execution": {
     "iopub.execute_input": "2021-12-08T08:50:26.626873Z",
     "iopub.status.busy": "2021-12-08T08:50:26.626579Z",
     "iopub.status.idle": "2021-12-08T08:50:27.837291Z",
     "shell.execute_reply": "2021-12-08T08:50:27.836428Z",
     "shell.execute_reply.started": "2021-12-08T08:50:26.626843Z"
    }
   },
   "outputs": [
    {
     "data": {
      "image/png": "[encoded data removed]",
      "text/plain": [
       "<Figure size 1152x432 with 2 Axes>"
      ]
     },
     "metadata": {
      "needs_background": "light"
     },
     "output_type": "display_data"
    }
   ],
   "source": [
    "plt.figure(figsize=(16, 6))\n",
    "sns.heatmap(white_wine_data.corr(), annot=True);"
   ]
  },
  {
   "cell_type": "markdown",
   "metadata": {},
   "source": [
    "## Insights / Sanity Check Conclusions\n",
    "\n",
    "\n",
    "1. **Shape and data sufficiency: Check if there are sufficient rows of data for an ML problem ---> (DONE)**\n",
    "    1. **INSIGHT:** Shape of the data is (1599, 12). i.e., dataset contains ~1600 observations, which is much greater than number of columns (12). Hence we can apply ML techniques rather than statistical rule-based approach.\n",
    "\n",
    "\n",
    "2. **Datatypes: Check whether all the columns in the given dataset is numeric ---> (DONE)**\n",
    "    1. **INSIGHT:** `Dtype` indicates that all columns are numeric\n",
    "    \n",
    "\n",
    "3. **Missing Values: Check whether there are missing values ---->DONE**\n",
    "    1. **INSIGHT:** `Non-Null Count` indicates there are no missing values in the dataset\n",
    "\n",
    "\n",
    "4. **Zero-variance: Check if there are any zero variance column in the dataset ---> (DONE)**\n",
    "    1. **INSIGHT:** No zero-variance columns found in the dataset\n",
    "\n",
    "\n",
    "5. **Range of numbers in each column: Check if the column values within the dataset are in the same magnitude ---> (DONE)**\n",
    "    1. **INSIGHT:** Each column has numbers within the same magnitude\n",
    "\n",
    "\n",
    "6. **Correlation: Check correlation between feature columns & target -->DONE**\n",
    "    1. **INSIGHT:** The columns `pH`, `free sulfur dioxide`, `residual sugar` have very weak correlation (0.00 - 0.20)\n",
    "    2. **INSIGHT:** The columns `fixed acidity`, `citric acid`, `chlorides`, `total sulfur dioxide`, `density` have weak correlation (0.20 - 0.40)\n",
    "    3. ***Note:*** *absolute values of correlations were considered*\n",
    "\n",
    "\n",
    "7. **Other Observations:**\n",
    "    1. **INSIGHT:** Since (a) the target is given (b) target is continuous (number between 0..10), we can conclude that this is a supervised linear regression problem\n",
    "    2. **INSIGHT:** The target variable, i.e., `quality` has discrete values which indicates that this can be solved using classification methods also. However we will continue with Linear Regression in this exercise.\n"
   ]
  },
  {
   "cell_type": "markdown",
   "metadata": {},
   "source": [
    "## Checklist of STANDARD EDA items\n",
    "\n",
    "1. Strategy for missing data\n",
    "    1. Action: No missing data, no action to be taken\n",
    "    \n",
    "    \n",
    "2. Convert categorical to numeric\n",
    "    1. Action: No Categorical data, no action to be taken\n",
    "    \n",
    "    \n",
    "3. Dimensionality reduction/Drop the identified columns\n",
    "    1. Action: Drop identified columns in Insights 6A and 6B\n",
    "    \n",
    "    \n",
    "4. Check for Outliers, Normalize data in columns to fit a range (*Optional*)\n",
    "    1. Action: As per Insights 5A there are no Outliers\n",
    "\n",
    "### White Wine Analysis Approach After Insights:\n",
    "We will follow a 3-step approach as outlined below:\n",
    "\n",
    "Step 1:\n",
    "1. First, we will process the complete dataset without dropping any columns.\n",
    "2. We will build the ML model with the complete data, test and validate the predictions.\n",
    "\n",
    "Step 2:\n",
    "1. As per Insights 6A, we will drop the columns that show very weak correlations. These columns are - `pH`, `free sulfur dioxide`, `residual sugar`\n",
    "2. The dataset will thus have 9 features (including target)\n",
    "3. We will build the ML model with the remaining data, test and validate the predictions\n",
    "\n",
    "Step 3:\n",
    "1. As per Insights 6B, we will next drop the columns that show weak correlations. These columns are - `fixed acidity`, `citric acid`, `chlorides`, `total sulfur dioxide`, `density`\n",
    "2. The dataset will thus have 4 features (including target)\n",
    "3. We will build the ML model with the remaining data, test and validate the predictions\n",
    "\n",
    "Step 4:\n",
    "1. Compare the Accuracy of all the three models developed\n",
    "2. Choose the best model for deployment\n"
   ]
  },
  {
   "cell_type": "markdown",
   "metadata": {},
   "source": [
    "#### Step 1:\n",
    "Build the ML model with the complete data, test and validate the predictions."
   ]
  },
  {
   "cell_type": "code",
   "execution_count": 36,
   "metadata": {
    "execution": {
     "iopub.execute_input": "2021-12-08T08:50:27.838754Z",
     "iopub.status.busy": "2021-12-08T08:50:27.838498Z",
     "iopub.status.idle": "2021-12-08T08:50:27.844512Z",
     "shell.execute_reply": "2021-12-08T08:50:27.843703Z",
     "shell.execute_reply.started": "2021-12-08T08:50:27.838724Z"
    }
   },
   "outputs": [],
   "source": [
    "X = white_wine_data.drop('quality',axis=1)\n",
    "y = white_wine_data['quality']"
   ]
  },
  {
   "cell_type": "code",
   "execution_count": 37,
   "metadata": {
    "execution": {
     "iopub.execute_input": "2021-12-08T08:50:27.846384Z",
     "iopub.status.busy": "2021-12-08T08:50:27.845865Z",
     "iopub.status.idle": "2021-12-08T08:50:27.859465Z",
     "shell.execute_reply": "2021-12-08T08:50:27.858564Z",
     "shell.execute_reply.started": "2021-12-08T08:50:27.846338Z"
    }
   },
   "outputs": [
    {
     "name": "stdout",
     "output_type": "stream",
     "text": [
      "(3918, 11) (980, 11) (3918,) (980,)\n"
     ]
    }
   ],
   "source": [
    "X_train, X_test, y_train, y_test = train_test_split(X, y, test_size=0.2, random_state=42)\n",
    "print(X_train.shape, X_test.shape, y_train.shape, y_test.shape)"
   ]
  },
  {
   "cell_type": "code",
   "execution_count": 38,
   "metadata": {
    "execution": {
     "iopub.execute_input": "2021-12-08T08:50:27.861459Z",
     "iopub.status.busy": "2021-12-08T08:50:27.860979Z",
     "iopub.status.idle": "2021-12-08T08:50:27.894872Z",
     "shell.execute_reply": "2021-12-08T08:50:27.893844Z",
     "shell.execute_reply.started": "2021-12-08T08:50:27.861416Z"
    }
   },
   "outputs": [],
   "source": [
    "lm_white_wine1 = LinearRegression()\n",
    "\n",
    "white_model1 = lm_white_wine1.fit(X_train, y_train)\n",
    "\n",
    "# computing yhat (ie train_predictions) using X (ie train_features)\n",
    "train_predictions = lm_white_wine1.predict(X_train)\n",
    "train_prediction = [int(round(x,0)) for x in train_predictions]\n"
   ]
  },
  {
   "cell_type": "code",
   "execution_count": 39,
   "metadata": {
    "execution": {
     "iopub.execute_input": "2021-12-08T08:50:27.896887Z",
     "iopub.status.busy": "2021-12-08T08:50:27.896395Z",
     "iopub.status.idle": "2021-12-08T08:50:27.920915Z",
     "shell.execute_reply": "2021-12-08T08:50:27.920022Z",
     "shell.execute_reply.started": "2021-12-08T08:50:27.896842Z"
    }
   },
   "outputs": [
    {
     "name": "stdout",
     "output_type": "stream",
     "text": [
      "      Actual  Predicted  Err     PctErr\n",
      "0          6          7    1  16.666667\n",
      "1          5          6    1  20.000000\n",
      "2          6          6    0   0.000000\n",
      "3          7          6    1  14.285714\n",
      "4          5          6    1  20.000000\n",
      "...      ...        ...  ...        ...\n",
      "3913       6          6    0   0.000000\n",
      "3914       6          6    0   0.000000\n",
      "3915       6          6    0   0.000000\n",
      "3916       6          6    0   0.000000\n",
      "3917       8          6    2  25.000000\n",
      "\n",
      "[3918 rows x 4 columns] 9.456800926938781\n"
     ]
    }
   ],
   "source": [
    "comp_matrix, mean = compare_prediction(y, train_prediction)\n",
    "print(comp_matrix, mean)"
   ]
  },
  {
   "cell_type": "code",
   "execution_count": 40,
   "metadata": {
    "execution": {
     "iopub.execute_input": "2021-12-08T08:50:27.922908Z",
     "iopub.status.busy": "2021-12-08T08:50:27.922415Z",
     "iopub.status.idle": "2021-12-08T08:50:27.933481Z",
     "shell.execute_reply": "2021-12-08T08:50:27.932556Z",
     "shell.execute_reply.started": "2021-12-08T08:50:27.922863Z"
    }
   },
   "outputs": [
    {
     "name": "stdout",
     "output_type": "stream",
     "text": [
      "Accuracy1 =  90.54319907306122\n"
     ]
    }
   ],
   "source": [
    "accuracy1 = 100-mean\n",
    "print('Accuracy1 = ', accuracy1)"
   ]
  },
  {
   "cell_type": "markdown",
   "metadata": {},
   "source": [
    "#### Step 2:\n",
    "drop the columns that show very weak correlations (0.0 to 0.2 ). "
   ]
  },
  {
   "cell_type": "code",
   "execution_count": 41,
   "metadata": {
    "execution": {
     "iopub.execute_input": "2021-12-08T08:50:27.942178Z",
     "iopub.status.busy": "2021-12-08T08:50:27.941574Z",
     "iopub.status.idle": "2021-12-08T08:50:27.962243Z",
     "shell.execute_reply": "2021-12-08T08:50:27.961363Z",
     "shell.execute_reply.started": "2021-12-08T08:50:27.942129Z"
    }
   },
   "outputs": [
    {
     "data": {
      "text/html": [
       "<div>\n",
       "<style scoped>\n",
       "    .dataframe tbody tr th:only-of-type {\n",
       "        vertical-align: middle;\n",
       "    }\n",
       "\n",
       "    .dataframe tbody tr th {\n",
       "        vertical-align: top;\n",
       "    }\n",
       "\n",
       "    .dataframe thead th {\n",
       "        text-align: right;\n",
       "    }\n",
       "</style>\n",
       "<table border=\"1\" class=\"dataframe\">\n",
       "  <thead>\n",
       "    <tr style=\"text-align: right;\">\n",
       "      <th></th>\n",
       "      <th>chlorides</th>\n",
       "      <th>density</th>\n",
       "      <th>alcohol</th>\n",
       "      <th>quality</th>\n",
       "    </tr>\n",
       "  </thead>\n",
       "  <tbody>\n",
       "    <tr>\n",
       "      <th>0</th>\n",
       "      <td>0.045</td>\n",
       "      <td>1.0010</td>\n",
       "      <td>8.8</td>\n",
       "      <td>6</td>\n",
       "    </tr>\n",
       "    <tr>\n",
       "      <th>1</th>\n",
       "      <td>0.049</td>\n",
       "      <td>0.9940</td>\n",
       "      <td>9.5</td>\n",
       "      <td>6</td>\n",
       "    </tr>\n",
       "    <tr>\n",
       "      <th>2</th>\n",
       "      <td>0.050</td>\n",
       "      <td>0.9951</td>\n",
       "      <td>10.1</td>\n",
       "      <td>6</td>\n",
       "    </tr>\n",
       "    <tr>\n",
       "      <th>3</th>\n",
       "      <td>0.058</td>\n",
       "      <td>0.9956</td>\n",
       "      <td>9.9</td>\n",
       "      <td>6</td>\n",
       "    </tr>\n",
       "    <tr>\n",
       "      <th>4</th>\n",
       "      <td>0.058</td>\n",
       "      <td>0.9956</td>\n",
       "      <td>9.9</td>\n",
       "      <td>6</td>\n",
       "    </tr>\n",
       "  </tbody>\n",
       "</table>\n",
       "</div>"
      ],
      "text/plain": [
       "   chlorides  density  alcohol  quality\n",
       "0      0.045   1.0010      8.8        6\n",
       "1      0.049   0.9940      9.5        6\n",
       "2      0.050   0.9951     10.1        6\n",
       "3      0.058   0.9956      9.9        6\n",
       "4      0.058   0.9956      9.9        6"
      ]
     },
     "execution_count": 41,
     "metadata": {},
     "output_type": "execute_result"
    }
   ],
   "source": [
    "# Dimensionality reduction\n",
    "lst = ['fixed acidity', 'volatile acidity', 'citric acid','residual sugar', 'total sulfur dioxide', 'free sulfur dioxide','pH','sulphates']\n",
    "white_wine_data.drop(lst, axis=1,inplace=True)\n",
    "white_wine_data.head()"
   ]
  },
  {
   "cell_type": "code",
   "execution_count": 42,
   "metadata": {
    "execution": {
     "iopub.execute_input": "2021-12-08T08:50:27.964227Z",
     "iopub.status.busy": "2021-12-08T08:50:27.963719Z",
     "iopub.status.idle": "2021-12-08T08:50:27.968540Z",
     "shell.execute_reply": "2021-12-08T08:50:27.967753Z",
     "shell.execute_reply.started": "2021-12-08T08:50:27.964183Z"
    }
   },
   "outputs": [],
   "source": [
    "lm_white_wine2 = LinearRegression()"
   ]
  },
  {
   "cell_type": "code",
   "execution_count": 43,
   "metadata": {
    "execution": {
     "iopub.execute_input": "2021-12-08T08:50:27.971876Z",
     "iopub.status.busy": "2021-12-08T08:50:27.970378Z",
     "iopub.status.idle": "2021-12-08T08:50:27.984540Z",
     "shell.execute_reply": "2021-12-08T08:50:27.983537Z",
     "shell.execute_reply.started": "2021-12-08T08:50:27.971830Z"
    }
   },
   "outputs": [],
   "source": [
    "X = white_wine_data.drop('quality',axis=1)\n",
    "y = white_wine_data['quality']\n",
    "X_train, X_test, y_train, y_test = train_test_split(X, y, test_size=0.2, random_state=42)"
   ]
  },
  {
   "cell_type": "code",
   "execution_count": 44,
   "metadata": {
    "execution": {
     "iopub.execute_input": "2021-12-08T08:50:27.986666Z",
     "iopub.status.busy": "2021-12-08T08:50:27.986178Z",
     "iopub.status.idle": "2021-12-08T08:50:27.995202Z",
     "shell.execute_reply": "2021-12-08T08:50:27.994333Z",
     "shell.execute_reply.started": "2021-12-08T08:50:27.986623Z"
    }
   },
   "outputs": [],
   "source": [
    "white_model2 = lm_white_wine2.fit(X_train, y_train)"
   ]
  },
  {
   "cell_type": "code",
   "execution_count": 45,
   "metadata": {
    "execution": {
     "iopub.execute_input": "2021-12-08T08:50:27.997111Z",
     "iopub.status.busy": "2021-12-08T08:50:27.996421Z",
     "iopub.status.idle": "2021-12-08T08:50:28.025662Z",
     "shell.execute_reply": "2021-12-08T08:50:28.024438Z",
     "shell.execute_reply.started": "2021-12-08T08:50:27.997073Z"
    }
   },
   "outputs": [],
   "source": [
    "# computing yhat (ie train_predictions) using X (ie train_features)\n",
    "train_predictions = lm_white_wine2.predict(X_train)\n",
    "train_prediction = [int(round(x,0)) for x in train_predictions]\n"
   ]
  },
  {
   "cell_type": "code",
   "execution_count": 46,
   "metadata": {
    "execution": {
     "iopub.execute_input": "2021-12-08T08:50:28.031521Z",
     "iopub.status.busy": "2021-12-08T08:50:28.031089Z",
     "iopub.status.idle": "2021-12-08T08:50:28.065652Z",
     "shell.execute_reply": "2021-12-08T08:50:28.064389Z",
     "shell.execute_reply.started": "2021-12-08T08:50:28.031470Z"
    }
   },
   "outputs": [
    {
     "name": "stdout",
     "output_type": "stream",
     "text": [
      "      Actual  Predicted  Err     PctErr\n",
      "0          6          7    1  16.666667\n",
      "1          5          6    1  20.000000\n",
      "2          6          6    0   0.000000\n",
      "3          7          6    1  14.285714\n",
      "4          5          6    1  20.000000\n",
      "...      ...        ...  ...        ...\n",
      "3913       6          6    0   0.000000\n",
      "3914       6          6    0   0.000000\n",
      "3915       6          6    0   0.000000\n",
      "3916       6          6    0   0.000000\n",
      "3917       8          6    2  25.000000\n",
      "\n",
      "[3918 rows x 4 columns] 10.462669243297134\n"
     ]
    }
   ],
   "source": [
    "comp_matrix, mean = compare_prediction(y, train_prediction)\n",
    "print(comp_matrix, mean)"
   ]
  },
  {
   "cell_type": "code",
   "execution_count": 47,
   "metadata": {
    "execution": {
     "iopub.execute_input": "2021-12-08T08:50:28.071895Z",
     "iopub.status.busy": "2021-12-08T08:50:28.071110Z",
     "iopub.status.idle": "2021-12-08T08:50:28.085316Z",
     "shell.execute_reply": "2021-12-08T08:50:28.083919Z",
     "shell.execute_reply.started": "2021-12-08T08:50:28.071836Z"
    }
   },
   "outputs": [
    {
     "name": "stdout",
     "output_type": "stream",
     "text": [
      "Accuracy2 =  89.53733075670287\n"
     ]
    }
   ],
   "source": [
    "accuracy2 = 100 - mean\n",
    "print('Accuracy2 = ', accuracy2)"
   ]
  },
  {
   "cell_type": "markdown",
   "metadata": {},
   "source": [
    "#### Step 3: Drop columns weak columns(0-2 to 0.4)\n",
    "Buiding model with just one column\n",
    "\n",
    "\n",
    "\n"
   ]
  },
  {
   "cell_type": "code",
   "execution_count": 48,
   "metadata": {
    "execution": {
     "iopub.execute_input": "2021-12-08T08:50:28.094424Z",
     "iopub.status.busy": "2021-12-08T08:50:28.090950Z",
     "iopub.status.idle": "2021-12-08T08:50:28.111963Z",
     "shell.execute_reply": "2021-12-08T08:50:28.111035Z",
     "shell.execute_reply.started": "2021-12-08T08:50:28.094349Z"
    }
   },
   "outputs": [
    {
     "data": {
      "text/html": [
       "<div>\n",
       "<style scoped>\n",
       "    .dataframe tbody tr th:only-of-type {\n",
       "        vertical-align: middle;\n",
       "    }\n",
       "\n",
       "    .dataframe tbody tr th {\n",
       "        vertical-align: top;\n",
       "    }\n",
       "\n",
       "    .dataframe thead th {\n",
       "        text-align: right;\n",
       "    }\n",
       "</style>\n",
       "<table border=\"1\" class=\"dataframe\">\n",
       "  <thead>\n",
       "    <tr style=\"text-align: right;\">\n",
       "      <th></th>\n",
       "      <th>alcohol</th>\n",
       "      <th>quality</th>\n",
       "    </tr>\n",
       "  </thead>\n",
       "  <tbody>\n",
       "    <tr>\n",
       "      <th>0</th>\n",
       "      <td>8.8</td>\n",
       "      <td>6</td>\n",
       "    </tr>\n",
       "    <tr>\n",
       "      <th>1</th>\n",
       "      <td>9.5</td>\n",
       "      <td>6</td>\n",
       "    </tr>\n",
       "    <tr>\n",
       "      <th>2</th>\n",
       "      <td>10.1</td>\n",
       "      <td>6</td>\n",
       "    </tr>\n",
       "    <tr>\n",
       "      <th>3</th>\n",
       "      <td>9.9</td>\n",
       "      <td>6</td>\n",
       "    </tr>\n",
       "    <tr>\n",
       "      <th>4</th>\n",
       "      <td>9.9</td>\n",
       "      <td>6</td>\n",
       "    </tr>\n",
       "  </tbody>\n",
       "</table>\n",
       "</div>"
      ],
      "text/plain": [
       "   alcohol  quality\n",
       "0      8.8        6\n",
       "1      9.5        6\n",
       "2     10.1        6\n",
       "3      9.9        6\n",
       "4      9.9        6"
      ]
     },
     "execution_count": 48,
     "metadata": {},
     "output_type": "execute_result"
    }
   ],
   "source": [
    "lst = ['chlorides', 'density']\n",
    "white_wine_data.drop(lst, axis=1,inplace=True)\n",
    "white_wine_data.head()"
   ]
  },
  {
   "cell_type": "code",
   "execution_count": 49,
   "metadata": {
    "execution": {
     "iopub.execute_input": "2021-12-08T08:50:28.114332Z",
     "iopub.status.busy": "2021-12-08T08:50:28.113736Z",
     "iopub.status.idle": "2021-12-08T08:50:28.118730Z",
     "shell.execute_reply": "2021-12-08T08:50:28.117848Z",
     "shell.execute_reply.started": "2021-12-08T08:50:28.114288Z"
    }
   },
   "outputs": [],
   "source": [
    "lm_white_wine3 = LinearRegression()"
   ]
  },
  {
   "cell_type": "code",
   "execution_count": 50,
   "metadata": {
    "execution": {
     "iopub.execute_input": "2021-12-08T08:50:28.121045Z",
     "iopub.status.busy": "2021-12-08T08:50:28.120470Z",
     "iopub.status.idle": "2021-12-08T08:50:28.130704Z",
     "shell.execute_reply": "2021-12-08T08:50:28.130061Z",
     "shell.execute_reply.started": "2021-12-08T08:50:28.121002Z"
    }
   },
   "outputs": [],
   "source": [
    "X = white_wine_data.drop('quality',axis=1)\n",
    "y = white_wine_data['quality']"
   ]
  },
  {
   "cell_type": "code",
   "execution_count": 51,
   "metadata": {
    "execution": {
     "iopub.execute_input": "2021-12-08T08:50:28.132927Z",
     "iopub.status.busy": "2021-12-08T08:50:28.132319Z",
     "iopub.status.idle": "2021-12-08T08:50:28.145261Z",
     "shell.execute_reply": "2021-12-08T08:50:28.144176Z",
     "shell.execute_reply.started": "2021-12-08T08:50:28.132884Z"
    }
   },
   "outputs": [
    {
     "name": "stdout",
     "output_type": "stream",
     "text": [
      "(3918, 1) (980, 1) (3918,) (980,)\n"
     ]
    }
   ],
   "source": [
    "X_train, X_test, y_train, y_test = train_test_split(X, y, test_size=0.2, random_state=42)\n",
    "print(X_train.shape, X_test.shape, y_train.shape, y_test.shape)"
   ]
  },
  {
   "cell_type": "code",
   "execution_count": 52,
   "metadata": {
    "execution": {
     "iopub.execute_input": "2021-12-08T08:50:28.147263Z",
     "iopub.status.busy": "2021-12-08T08:50:28.146756Z",
     "iopub.status.idle": "2021-12-08T08:50:28.155844Z",
     "shell.execute_reply": "2021-12-08T08:50:28.155012Z",
     "shell.execute_reply.started": "2021-12-08T08:50:28.147210Z"
    }
   },
   "outputs": [],
   "source": [
    "white_model3 = lm_white_wine3.fit(X_train, y_train)"
   ]
  },
  {
   "cell_type": "code",
   "execution_count": 53,
   "metadata": {
    "execution": {
     "iopub.execute_input": "2021-12-08T08:50:28.157391Z",
     "iopub.status.busy": "2021-12-08T08:50:28.157066Z",
     "iopub.status.idle": "2021-12-08T08:50:28.178171Z",
     "shell.execute_reply": "2021-12-08T08:50:28.177297Z",
     "shell.execute_reply.started": "2021-12-08T08:50:28.157359Z"
    }
   },
   "outputs": [],
   "source": [
    "# computing yhat (ie train_predictions) using X (ie train_features)\n",
    "train_predictions = lm_white_wine3.predict(X_train)\n",
    "train_prediction = [int(round(x,0)) for x in train_predictions]"
   ]
  },
  {
   "cell_type": "code",
   "execution_count": 54,
   "metadata": {
    "execution": {
     "iopub.execute_input": "2021-12-08T08:50:28.179572Z",
     "iopub.status.busy": "2021-12-08T08:50:28.179323Z",
     "iopub.status.idle": "2021-12-08T08:50:28.198163Z",
     "shell.execute_reply": "2021-12-08T08:50:28.197317Z",
     "shell.execute_reply.started": "2021-12-08T08:50:28.179541Z"
    }
   },
   "outputs": [
    {
     "name": "stdout",
     "output_type": "stream",
     "text": [
      "      Actual  Predicted  Err     PctErr\n",
      "0          6          6    0   0.000000\n",
      "1          5          6    1  20.000000\n",
      "2          6          6    0   0.000000\n",
      "3          7          6    1  14.285714\n",
      "4          5          6    1  20.000000\n",
      "...      ...        ...  ...        ...\n",
      "3913       6          6    0   0.000000\n",
      "3914       6          6    0   0.000000\n",
      "3915       6          6    0   0.000000\n",
      "3916       6          6    0   0.000000\n",
      "3917       8          6    2  25.000000\n",
      "\n",
      "[3918 rows x 4 columns] 10.624994935867852\n"
     ]
    }
   ],
   "source": [
    "comp_matrix, mean = compare_prediction(y, train_prediction)\n",
    "print(comp_matrix, mean)"
   ]
  },
  {
   "cell_type": "code",
   "execution_count": 55,
   "metadata": {
    "execution": {
     "iopub.execute_input": "2021-12-08T08:50:28.199935Z",
     "iopub.status.busy": "2021-12-08T08:50:28.199583Z",
     "iopub.status.idle": "2021-12-08T08:50:28.204411Z",
     "shell.execute_reply": "2021-12-08T08:50:28.203445Z",
     "shell.execute_reply.started": "2021-12-08T08:50:28.199905Z"
    }
   },
   "outputs": [
    {
     "name": "stdout",
     "output_type": "stream",
     "text": [
      "Accuracy3 =  89.37500506413215\n"
     ]
    }
   ],
   "source": [
    "accuracy3 = 100-mean\n",
    "print('Accuracy3 = ', accuracy3)"
   ]
  },
  {
   "cell_type": "markdown",
   "metadata": {},
   "source": [
    "#### Step 4:\n",
    "\n",
    "Compare the Accuracy of all the three models developed\n"
   ]
  },
  {
   "cell_type": "code",
   "execution_count": 56,
   "metadata": {
    "execution": {
     "iopub.execute_input": "2021-12-08T08:50:28.207124Z",
     "iopub.status.busy": "2021-12-08T08:50:28.206091Z",
     "iopub.status.idle": "2021-12-08T08:50:28.216954Z",
     "shell.execute_reply": "2021-12-08T08:50:28.216109Z",
     "shell.execute_reply.started": "2021-12-08T08:50:28.207075Z"
    }
   },
   "outputs": [
    {
     "name": "stdout",
     "output_type": "stream",
     "text": [
      "Model1 Accuracy 90.54319907306122\n",
      "Model2 Accuracy 89.53733075670287\n",
      "Model3 Accuracy 89.37500506413215\n"
     ]
    }
   ],
   "source": [
    "print(\"Model1 Accuracy {}\".format(accuracy1))\n",
    "print(\"Model2 Accuracy {}\".format(accuracy2))\n",
    "print(\"Model3 Accuracy {}\".format(accuracy3))"
   ]
  },
  {
   "cell_type": "markdown",
   "metadata": {},
   "source": [
    "#### Choose the best model for deployment.\n",
    "Since we are getting the maximum accuracy from the first model, we are going for model1 ."
   ]
  },
  {
   "cell_type": "markdown",
   "metadata": {},
   "source": [
    "# Model Saving"
   ]
  },
  {
   "cell_type": "code",
   "execution_count": 57,
   "metadata": {
    "execution": {
     "iopub.execute_input": "2021-12-08T08:50:28.218351Z",
     "iopub.status.busy": "2021-12-08T08:50:28.218113Z",
     "iopub.status.idle": "2021-12-08T08:50:28.228611Z",
     "shell.execute_reply": "2021-12-08T08:50:28.227815Z",
     "shell.execute_reply.started": "2021-12-08T08:50:28.218323Z"
    }
   },
   "outputs": [],
   "source": [
    "#Saving the model\n",
    "model_file = open('models/white_wine_model.pkl','wb')\n",
    "pickle.dump(white_model1, model_file)\n",
    "model_file.close()\n"
   ]
  },
  {
   "cell_type": "code",
   "execution_count": 58,
   "metadata": {
    "execution": {
     "iopub.execute_input": "2021-12-08T08:50:28.230271Z",
     "iopub.status.busy": "2021-12-08T08:50:28.230023Z",
     "iopub.status.idle": "2021-12-08T08:50:28.240793Z",
     "shell.execute_reply": "2021-12-08T08:50:28.239920Z",
     "shell.execute_reply.started": "2021-12-08T08:50:28.230241Z"
    }
   },
   "outputs": [
    {
     "name": "stdout",
     "output_type": "stream",
     "text": [
      "LinearRegression()\n"
     ]
    }
   ],
   "source": [
    "# reload the model from disk and check if it is saved properly\n",
    "model_file = open('models/white_wine_model.pkl', 'rb')\n",
    "lr_model = pickle.load(model_file)\n",
    "model_file.close()\n",
    "print(lr_model)"
   ]
  }
 ],
 "metadata": {
  "kernelspec": {
   "display_name": "Python 3",
   "language": "python",
   "name": "python3"
  },
  "language_info": {
   "codemirror_mode": {
    "name": "ipython",
    "version": 3
   },
   "file_extension": ".py",
   "mimetype": "text/x-python",
   "name": "python",
   "nbconvert_exporter": "python",
   "pygments_lexer": "ipython3",
   "version": "3.8.5"
  }
 },
 "nbformat": 4,
 "nbformat_minor": 4
}
