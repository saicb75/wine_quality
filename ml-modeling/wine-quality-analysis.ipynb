{
 "cells": [
  {
   "cell_type": "markdown",
   "metadata": {},
   "source": [
    "# How the code is organized\n",
    "\n",
    "The code is provided in 2 sections:\n",
    "\n",
    "**Section 1:** Red Wine Analysis, Model Creation and Saving\n",
    "\n",
    "**Section 2:** White Wine Analysis, Model Creation and Saving\n",
    "\n",
    "For deployment, refer to the Flask application under the `deployment` folder"
   ]
  },
  {
   "cell_type": "code",
   "execution_count": null,
   "metadata": {
    "execution": {
     "iopub.execute_input": "2021-12-08T08:50:23.513408Z",
     "iopub.status.busy": "2021-12-08T08:50:23.512785Z",
     "iopub.status.idle": "2021-12-08T08:50:24.797999Z",
     "shell.execute_reply": "2021-12-08T08:50:24.797142Z",
     "shell.execute_reply.started": "2021-12-08T08:50:23.513294Z"
    }
   },
   "outputs": [],
   "source": [
    "#import the relevant libraries\n",
    "\n",
    "import pandas as pd\n",
    "import numpy as np\n",
    "import matplotlib.pyplot as plt\n",
    "import seaborn as sns\n",
    "import pickle\n",
    "from sklearn.linear_model import LinearRegression\n",
    "from sklearn.model_selection import train_test_split"
   ]
  },
  {
   "cell_type": "markdown",
   "metadata": {},
   "source": [
    "## Section 1 - Red Wine Analysis, Model Creation and Saving"
   ]
  },
  {
   "cell_type": "code",
   "execution_count": null,
   "metadata": {
    "execution": {
     "iopub.execute_input": "2021-12-08T08:50:24.800381Z",
     "iopub.status.busy": "2021-12-08T08:50:24.800028Z",
     "iopub.status.idle": "2021-12-08T08:50:24.851130Z",
     "shell.execute_reply": "2021-12-08T08:50:24.850234Z",
     "shell.execute_reply.started": "2021-12-08T08:50:24.800337Z"
    },
    "scrolled": true
   },
   "outputs": [],
   "source": [
    "# read the dataset\n",
    "\n",
    "red_wine_data = pd.read_csv('datasets/winequality-red.csv', delimiter =';')\n",
    "red_wine_data.head()"
   ]
  },
  {
   "cell_type": "markdown",
   "metadata": {},
   "source": [
    "### Develop an ML Model for Red Wine\n",
    "\n",
    "Developing an ML model involves a number of steps.\n",
    "\n",
    "Let us adopt the following Machine Learning Pipeline:\n",
    "\n",
    "1. Sanity Check \n",
    "2. EDA/Preprocessing\n",
    "3. Feature Engineering\n",
    "4. Model Building\n",
    "5. Model Saving\n",
    "6. Model Deployment - this is covered under the `deployment` folder\n",
    "\n",
    "Once the model is deployed, the pipeline extends to include the below steps:\n",
    "\n",
    "7. Model in Production\n",
    "8. Observe model behaviour\n",
    "9. Obtain updated datasets\n",
    "10. Redo steps 1..9 if required\n",
    "\n",
    "_Note: these extended steps are not covered in this exercise_"
   ]
  },
  {
   "cell_type": "markdown",
   "metadata": {},
   "source": [
    "### Sanity Check\n",
    "\n",
    "1. Shape and data sufficiency: Check if there are sufficient rows of data for an ML problem\n",
    "2. Datatypes: Check whether all the columns in the given dataset is numeric\n",
    "3. Missing Values: Check whether there are missing values\n",
    "4. Zero-variance: Check if there are any zero variance column in the dataset\n",
    "5. Range of numbers in each column: Check if the column values within the dataset are in the same magnitude\n",
    "6. Correlation: Check correlation between feature columns & target\n",
    "7. Target: Check for discrete values"
   ]
  },
  {
   "cell_type": "code",
   "execution_count": null,
   "metadata": {
    "execution": {
     "iopub.execute_input": "2021-12-08T08:50:24.853234Z",
     "iopub.status.busy": "2021-12-08T08:50:24.852457Z",
     "iopub.status.idle": "2021-12-08T08:50:24.859171Z",
     "shell.execute_reply": "2021-12-08T08:50:24.858534Z",
     "shell.execute_reply.started": "2021-12-08T08:50:24.853195Z"
    }
   },
   "outputs": [],
   "source": [
    "# 1 Shape\n",
    "red_wine_data.shape"
   ]
  },
  {
   "cell_type": "code",
   "execution_count": null,
   "metadata": {
    "execution": {
     "iopub.execute_input": "2021-12-08T08:50:24.860805Z",
     "iopub.status.busy": "2021-12-08T08:50:24.860435Z",
     "iopub.status.idle": "2021-12-08T08:50:24.873542Z",
     "shell.execute_reply": "2021-12-08T08:50:24.872672Z",
     "shell.execute_reply.started": "2021-12-08T08:50:24.860752Z"
    }
   },
   "outputs": [],
   "source": [
    "# 2 Datatypes\n",
    "red_wine_data.dtypes"
   ]
  },
  {
   "cell_type": "code",
   "execution_count": null,
   "metadata": {
    "execution": {
     "iopub.execute_input": "2021-12-08T08:50:24.876164Z",
     "iopub.status.busy": "2021-12-08T08:50:24.875478Z",
     "iopub.status.idle": "2021-12-08T08:50:24.901387Z",
     "shell.execute_reply": "2021-12-08T08:50:24.900477Z",
     "shell.execute_reply.started": "2021-12-08T08:50:24.876126Z"
    }
   },
   "outputs": [],
   "source": [
    "# 3 Missing values\n",
    "red_wine_data.info()"
   ]
  },
  {
   "cell_type": "code",
   "execution_count": null,
   "metadata": {
    "execution": {
     "iopub.execute_input": "2021-12-08T08:50:24.912402Z",
     "iopub.status.busy": "2021-12-08T08:50:24.912173Z",
     "iopub.status.idle": "2021-12-08T08:50:24.938623Z",
     "shell.execute_reply": "2021-12-08T08:50:24.937864Z",
     "shell.execute_reply.started": "2021-12-08T08:50:24.912370Z"
    }
   },
   "outputs": [],
   "source": [
    "# 4 Identify zero variance columns\n",
    "for col in red_wine_data:\n",
    "    print(col, red_wine_data[col].value_counts().count())"
   ]
  },
  {
   "cell_type": "code",
   "execution_count": null,
   "metadata": {},
   "outputs": [],
   "source": [
    "# 5. Range of numbers in each column\n",
    "for i in red_wine_data.columns:\n",
    "    print(\"Range of {}: minimum {} & maximum {} \" .format(i, red_wine_data[i].min(), red_wine_data[i].max()))"
   ]
  },
  {
   "cell_type": "code",
   "execution_count": null,
   "metadata": {
    "execution": {
     "iopub.execute_input": "2021-12-08T08:50:24.940830Z",
     "iopub.status.busy": "2021-12-08T08:50:24.940556Z",
     "iopub.status.idle": "2021-12-08T08:50:24.968553Z",
     "shell.execute_reply": "2021-12-08T08:50:24.967538Z",
     "shell.execute_reply.started": "2021-12-08T08:50:24.940756Z"
    }
   },
   "outputs": [],
   "source": [
    "# 6 Relationship between features & the target\n",
    "red_wine_data.corr()"
   ]
  },
  {
   "cell_type": "code",
   "execution_count": null,
   "metadata": {
    "execution": {
     "iopub.execute_input": "2021-12-08T08:50:24.970292Z",
     "iopub.status.busy": "2021-12-08T08:50:24.969720Z",
     "iopub.status.idle": "2021-12-08T08:50:26.127329Z",
     "shell.execute_reply": "2021-12-08T08:50:26.126127Z",
     "shell.execute_reply.started": "2021-12-08T08:50:24.970256Z"
    }
   },
   "outputs": [],
   "source": [
    "plt.figure(figsize=(16, 6))\n",
    "sns.heatmap(red_wine_data.corr(), annot=True);"
   ]
  },
  {
   "cell_type": "code",
   "execution_count": null,
   "metadata": {
    "execution": {
     "iopub.execute_input": "2021-12-08T08:50:24.902962Z",
     "iopub.status.busy": "2021-12-08T08:50:24.902686Z",
     "iopub.status.idle": "2021-12-08T08:50:24.910663Z",
     "shell.execute_reply": "2021-12-08T08:50:24.909738Z",
     "shell.execute_reply.started": "2021-12-08T08:50:24.902930Z"
    }
   },
   "outputs": [],
   "source": [
    "#7. Target: Check for discrete values\n",
    "red_wine_data['quality'].value_counts()"
   ]
  },
  {
   "cell_type": "markdown",
   "metadata": {},
   "source": [
    "### Insights / Sanity Check Conclusions\n",
    "\n",
    "1. **Shape and data sufficiency: Check if there are sufficient rows of data for an ML problem**\n",
    "    1. **INSIGHT:** Shape of the data is (1599, 12). i.e., dataset contains ~1600 observations, which is much greater than number of columns (12). Hence we can apply ML techniques rather than statistical rule-based approach.\n",
    "\n",
    "\n",
    "2. **Datatypes: Check whether all the columns in the given dataset is numeric**\n",
    "    1. **INSIGHT:** `Dtype` indicates that all columns are numeric\n",
    "    \n",
    "\n",
    "3. **Missing Values: Check whether there are missing values**\n",
    "    1. **INSIGHT:** `Non-Null Count` indicates there are no missing values in the dataset\n",
    "\n",
    "\n",
    "4. **Zero-variance: Check if there are any zero variance column in the dataset**\n",
    "    1. **INSIGHT:** No zero-variance columns found in the dataset\n",
    "\n",
    "\n",
    "5. **Range of numbers in each column: Check if the column values within the dataset are in the same magnitude**\n",
    "    1. **INSIGHT:** Each column has numbers within the same magnitude or plottable in a graph\n",
    "\n",
    "\n",
    "6. **Correlation: Check correlation between feature columns & target**\n",
    "    1. **INSIGHT:** The columns `pH`, `free sulfur dioxide`, `residual sugar` have very weak correlation (0.00 - 0.20)\n",
    "    2. **INSIGHT:** The columns `fixed acidity`, `citric acid`, `chlorides`, `total sulfur dioxide`, `density` have weak correlation (0.20 - 0.40)\n",
    "    3. ***Note:*** *absolute values of correlations were considered*\n",
    "\n",
    "\n",
    "7. **Other Observations:**\n",
    "    1. **INSIGHT:** Since (a) the target is given (b) target is continuous (number between 0..10), we can conclude that this is a supervised linear regression problem\n",
    "    2. **INSIGHT:** The target variable, i.e., `quality` has discrete values which indicates that this can be solved using classification methods also. However we will continue with Linear Regression in this exercise.\n"
   ]
  },
  {
   "cell_type": "markdown",
   "metadata": {},
   "source": [
    "### EDA/Preprocessing\n",
    "_(Based on the insights from the sanity check, we can now determine how to process the data.)_"
   ]
  },
  {
   "cell_type": "markdown",
   "metadata": {},
   "source": [
    "#### Checklist of STANDARD EDA items\n",
    "\n",
    "1. Strategy for missing data\n",
    "    1. Action: No missing data, no action to be taken\n",
    "    \n",
    "    \n",
    "2. Convert categorical to numeric\n",
    "    1. Action: No Categorical data, no action to be taken\n",
    "    \n",
    "    \n",
    "3. Dimensionality reduction/Drop the identified columns\n",
    "    1. Action: Drop identified columns in Insights 6A and 6B\n",
    "    \n",
    "    \n",
    "4. Check for Outliers, Normalize data in columns to fit a range (*Optional*)\n",
    "    1. Action: As per Insights 5A there are no Outliers\n",
    "\n",
    "#### Approach:\n",
    "We will follow a 3-step approach as outlined below:\n",
    "\n",
    "Step 1:\n",
    "1. First, we will process the complete dataset without dropping any columns.\n",
    "2. We will build the ML model with the complete data, test and validate the predictions.\n",
    "\n",
    "Step 2:\n",
    "1. As per Insights 6A, we will drop the columns that show very weak correlations. These columns are - `pH`, `free sulfur dioxide`, `residual sugar`\n",
    "2. The dataset will thus have 9 features (including target)\n",
    "3. We will build the ML model with the remaining data, test and validate the predictions\n",
    "\n",
    "Step 3:\n",
    "1. As per Insights 6B, we will next drop the columns that show weak correlations. These columns are - `fixed acidity`, `citric acid`, `chlorides`, `total sulfur dioxide`, `density`\n",
    "2. The dataset will thus have 4 features (including target)\n",
    "3. We will build the ML model with the remaining data, test and validate the predictions\n",
    "\n",
    "Step 4:\n",
    "1. Compare the Accuracy of all the three models developed\n",
    "2. Choose the best model for deployment\n"
   ]
  },
  {
   "cell_type": "markdown",
   "metadata": {},
   "source": [
    "#### Step 1:\n",
    "Build the ML model with the complete data, test and validate the predictions."
   ]
  },
  {
   "cell_type": "code",
   "execution_count": null,
   "metadata": {
    "execution": {
     "iopub.execute_input": "2021-12-08T08:50:26.128858Z",
     "iopub.status.busy": "2021-12-08T08:50:26.128527Z",
     "iopub.status.idle": "2021-12-08T08:50:26.146538Z",
     "shell.execute_reply": "2021-12-08T08:50:26.145356Z",
     "shell.execute_reply.started": "2021-12-08T08:50:26.128814Z"
    }
   },
   "outputs": [],
   "source": [
    "# create the \"features and target\" data sets\n",
    "X = red_wine_data.drop('quality',axis=1)\n",
    "y = red_wine_data['quality']\n",
    "\n",
    "# split the features and target data sets into train and test sets\n",
    "X_train, X_test, y_train, y_test = train_test_split(X, y, test_size=0.2, random_state=42)\n",
    "print('Model 1 train/test shapes:')\n",
    "print(X_train.shape, X_test.shape, y_train.shape, y_test.shape)"
   ]
  },
  {
   "cell_type": "code",
   "execution_count": null,
   "metadata": {
    "execution": {
     "iopub.execute_input": "2021-12-08T08:50:26.191623Z",
     "iopub.status.busy": "2021-12-08T08:50:26.190854Z",
     "iopub.status.idle": "2021-12-08T08:50:26.216898Z",
     "shell.execute_reply": "2021-12-08T08:50:26.215809Z",
     "shell.execute_reply.started": "2021-12-08T08:50:26.191568Z"
    }
   },
   "outputs": [],
   "source": [
    "# create and fit a linear regression model\n",
    "lm_red_wine1 = LinearRegression()\n",
    "red_model1 = lm_red_wine1.fit(X_train, y_train)\n",
    "\n",
    "# computing yhat (ie train_predictions) using X (ie train_features)\n",
    "train_predictions = lm_red_wine1.predict(X_train)\n",
    "train_prediction = [int(round(x,0)) for x in train_predictions]"
   ]
  },
  {
   "cell_type": "code",
   "execution_count": null,
   "metadata": {
    "execution": {
     "iopub.execute_input": "2021-12-08T08:50:26.219198Z",
     "iopub.status.busy": "2021-12-08T08:50:26.218542Z",
     "iopub.status.idle": "2021-12-08T08:50:26.238826Z",
     "shell.execute_reply": "2021-12-08T08:50:26.237673Z",
     "shell.execute_reply.started": "2021-12-08T08:50:26.219139Z"
    }
   },
   "outputs": [],
   "source": [
    "# simple function to compare actual and predicted values\n",
    "def compare_prediction(y, yhat):\n",
    "    comp_matrix = pd.DataFrame(zip(y_train,train_prediction), columns = ['Actual', 'Predicted'])\n",
    "    comp_matrix['Err'] = abs(comp_matrix['Actual']-comp_matrix['Predicted'])\n",
    "    comp_matrix['PctErr'] = comp_matrix['Err']/comp_matrix['Actual'] * 100\n",
    "    mean_value = np.mean(comp_matrix['PctErr'])\n",
    "    return comp_matrix, mean_value"
   ]
  },
  {
   "cell_type": "code",
   "execution_count": null,
   "metadata": {
    "execution": {
     "iopub.execute_input": "2021-12-08T08:50:26.248324Z",
     "iopub.status.busy": "2021-12-08T08:50:26.247641Z",
     "iopub.status.idle": "2021-12-08T08:50:26.269908Z",
     "shell.execute_reply": "2021-12-08T08:50:26.268955Z",
     "shell.execute_reply.started": "2021-12-08T08:50:26.248266Z"
    }
   },
   "outputs": [],
   "source": [
    "# compare actual and predicted values\n",
    "comp_matrix, mean = compare_prediction(y, train_prediction)\n",
    "print(\"Model 1 prediction comparison and mean error:\", comp_matrix, mean)\n",
    "\n",
    "accuracy1 = round((100-mean),2)\n",
    "print('Model1 accuracy =', accuracy1)"
   ]
  },
  {
   "cell_type": "markdown",
   "metadata": {},
   "source": [
    "#### Step 2: Drop columns showing very weak correlations (0.0 - 0.2)\n",
    "1. Drop pH, free sulfur dioxide, residual sugar columns.\n",
    "2. Build the ML model, test and validate the predictions."
   ]
  },
  {
   "cell_type": "code",
   "execution_count": null,
   "metadata": {
    "execution": {
     "iopub.execute_input": "2021-12-08T08:50:26.281456Z",
     "iopub.status.busy": "2021-12-08T08:50:26.280897Z",
     "iopub.status.idle": "2021-12-08T08:50:26.315665Z",
     "shell.execute_reply": "2021-12-08T08:50:26.314683Z",
     "shell.execute_reply.started": "2021-12-08T08:50:26.281405Z"
    }
   },
   "outputs": [],
   "source": [
    "### 3. Dimensionality reduction/Drop the identified columns\n",
    "lst = ['pH', 'free sulfur dioxide', 'residual sugar']\n",
    "red_wine_data.drop(lst, axis =1, inplace = True)"
   ]
  },
  {
   "cell_type": "code",
   "execution_count": null,
   "metadata": {
    "execution": {
     "iopub.execute_input": "2021-12-08T08:50:26.317947Z",
     "iopub.status.busy": "2021-12-08T08:50:26.317392Z",
     "iopub.status.idle": "2021-12-08T08:50:26.338333Z",
     "shell.execute_reply": "2021-12-08T08:50:26.337084Z",
     "shell.execute_reply.started": "2021-12-08T08:50:26.317909Z"
    }
   },
   "outputs": [],
   "source": [
    "# create the \"features and target\" data sets\n",
    "X = red_wine_data.drop('quality',axis=1)\n",
    "y = red_wine_data['quality']\n",
    "\n",
    "# split the features and target data sets into train and test sets\n",
    "X_train, X_test, y_train, y_test = train_test_split(X, y, test_size=0.2, random_state=42)\n",
    "print('Model 2 train/test shapes:')\n",
    "print(X_train.shape, X_test.shape, y_train.shape, y_test.shape)"
   ]
  },
  {
   "cell_type": "code",
   "execution_count": null,
   "metadata": {
    "execution": {
     "iopub.execute_input": "2021-12-08T08:50:26.340097Z",
     "iopub.status.busy": "2021-12-08T08:50:26.339612Z",
     "iopub.status.idle": "2021-12-08T08:50:26.357538Z",
     "shell.execute_reply": "2021-12-08T08:50:26.356456Z",
     "shell.execute_reply.started": "2021-12-08T08:50:26.340049Z"
    }
   },
   "outputs": [],
   "source": [
    "# create and fit a linear regression model\n",
    "lm_red_wine2 = LinearRegression()\n",
    "red_model2 = lm_red_wine2.fit(X_train, y_train)\n",
    "\n",
    "# computing yhat (ie train_predictions) using X (ie train_features)\n",
    "train_predictions = lm_red_wine2.predict(X_train)\n",
    "train_prediction = [int(round(x,0)) for x in train_predictions] "
   ]
  },
  {
   "cell_type": "code",
   "execution_count": null,
   "metadata": {
    "execution": {
     "iopub.execute_input": "2021-12-08T08:50:26.248324Z",
     "iopub.status.busy": "2021-12-08T08:50:26.247641Z",
     "iopub.status.idle": "2021-12-08T08:50:26.269908Z",
     "shell.execute_reply": "2021-12-08T08:50:26.268955Z",
     "shell.execute_reply.started": "2021-12-08T08:50:26.248266Z"
    }
   },
   "outputs": [],
   "source": [
    "# compare actual and predicted values\n",
    "comp_matrix, mean = compare_prediction(y, train_prediction)\n",
    "print(\"Model 2 prediction comparison and mean error:\", comp_matrix, mean)\n",
    "\n",
    "accuracy2 = round((100-mean),2)\n",
    "print(\"Model 2 accuracy =\", accuracy2)"
   ]
  },
  {
   "cell_type": "markdown",
   "metadata": {},
   "source": [
    "#### Step 3: Drop columns showing weak correlations (0.2 - 0.4)\n",
    "1. Drop columns fixed acidity, citric acid, chlorides, total sulfur dioxide, density.\n",
    "2. Build the ML model, test and validate the predictions."
   ]
  },
  {
   "cell_type": "code",
   "execution_count": null,
   "metadata": {
    "execution": {
     "iopub.execute_input": "2021-12-08T08:50:26.367693Z",
     "iopub.status.busy": "2021-12-08T08:50:26.367218Z",
     "iopub.status.idle": "2021-12-08T08:50:26.380299Z",
     "shell.execute_reply": "2021-12-08T08:50:26.379249Z",
     "shell.execute_reply.started": "2021-12-08T08:50:26.367651Z"
    }
   },
   "outputs": [],
   "source": [
    "### 3. Dimensionality reduction/Drop the identified columns\n",
    "lst = ['fixed acidity', 'citric acid', 'chlorides', 'total sulfur dioxide', 'density']\n",
    "red_wine_data.drop(lst, axis =1, inplace = True)"
   ]
  },
  {
   "cell_type": "code",
   "execution_count": null,
   "metadata": {
    "execution": {
     "iopub.execute_input": "2021-12-08T08:50:26.382320Z",
     "iopub.status.busy": "2021-12-08T08:50:26.381826Z",
     "iopub.status.idle": "2021-12-08T08:50:26.399546Z",
     "shell.execute_reply": "2021-12-08T08:50:26.398115Z",
     "shell.execute_reply.started": "2021-12-08T08:50:26.382275Z"
    }
   },
   "outputs": [],
   "source": [
    "# create the \"features and target\" data sets\n",
    "X = red_wine_data.drop('quality',axis=1)\n",
    "y = red_wine_data['quality']\n",
    "\n",
    "# split the features and target data sets into train and test sets\n",
    "X_train, X_test, y_train, y_test = train_test_split(X, y, test_size=0.2, random_state=42)\n",
    "print('Model 2 train/test shapes:')\n",
    "print(X_train.shape, X_test.shape, y_train.shape, y_test.shape)"
   ]
  },
  {
   "cell_type": "code",
   "execution_count": null,
   "metadata": {
    "execution": {
     "iopub.execute_input": "2021-12-08T08:50:26.382320Z",
     "iopub.status.busy": "2021-12-08T08:50:26.381826Z",
     "iopub.status.idle": "2021-12-08T08:50:26.399546Z",
     "shell.execute_reply": "2021-12-08T08:50:26.398115Z",
     "shell.execute_reply.started": "2021-12-08T08:50:26.382275Z"
    }
   },
   "outputs": [],
   "source": [
    "# create and fit a linear regression model\n",
    "lm_red_wine3 = LinearRegression()\n",
    "red_model3 = lm_red_wine3.fit(X_train, y_train)\n",
    "\n",
    "# computing yhat (ie train_predictions) using X (ie train_features)\n",
    "train_predictions = lm_red_wine3.predict(X_train)\n",
    "train_prediction = [int(round(x,0)) for x in train_predictions]"
   ]
  },
  {
   "cell_type": "code",
   "execution_count": null,
   "metadata": {
    "execution": {
     "iopub.execute_input": "2021-12-08T08:50:26.420594Z",
     "iopub.status.busy": "2021-12-08T08:50:26.420140Z",
     "iopub.status.idle": "2021-12-08T08:50:26.440453Z",
     "shell.execute_reply": "2021-12-08T08:50:26.439578Z",
     "shell.execute_reply.started": "2021-12-08T08:50:26.420550Z"
    }
   },
   "outputs": [],
   "source": [
    "# compare actual and predicted values\n",
    "comp_matrix, mean = compare_prediction(y, train_prediction)\n",
    "print(\"Model 3 prediction comparison and mean error:\", comp_matrix, mean)\n",
    "\n",
    "accuracy3 = round((100-mean),2)\n",
    "print(\"Model 3 accuracy =\", accuracy3)"
   ]
  },
  {
   "cell_type": "markdown",
   "metadata": {},
   "source": [
    "#### Step 4:\n",
    "\n",
    "Compare the Accuracy of all the three models developed\n"
   ]
  },
  {
   "cell_type": "code",
   "execution_count": null,
   "metadata": {
    "execution": {
     "iopub.execute_input": "2021-12-08T08:50:26.450510Z",
     "iopub.status.busy": "2021-12-08T08:50:26.449840Z",
     "iopub.status.idle": "2021-12-08T08:50:26.459822Z",
     "shell.execute_reply": "2021-12-08T08:50:26.458908Z",
     "shell.execute_reply.started": "2021-12-08T08:50:26.450462Z"
    }
   },
   "outputs": [],
   "source": [
    "print(\"Model1 Accuracy {}\".format(accuracy1))\n",
    "print(\"Model2 Accuracy {}\".format(accuracy2))\n",
    "print(\"Model3 Accuracy {}\".format(accuracy3))"
   ]
  },
  {
   "cell_type": "markdown",
   "metadata": {},
   "source": [
    "#### Choose the best model for deployment.\n",
    "\n",
    "Since we are getting almost the same accuracy across models, we are going for model3 as it has least number of features."
   ]
  },
  {
   "cell_type": "markdown",
   "metadata": {},
   "source": [
    "### Red Wine: Model Saving"
   ]
  },
  {
   "cell_type": "code",
   "execution_count": null,
   "metadata": {
    "execution": {
     "iopub.execute_input": "2021-12-08T08:50:26.462827Z",
     "iopub.status.busy": "2021-12-08T08:50:26.462295Z",
     "iopub.status.idle": "2021-12-08T08:50:26.469522Z",
     "shell.execute_reply": "2021-12-08T08:50:26.468607Z",
     "shell.execute_reply.started": "2021-12-08T08:50:26.462757Z"
    }
   },
   "outputs": [],
   "source": [
    "# save red_model3 as per analysis\n",
    "model_file = open('models/red_wine_model.pkl', 'wb')\n",
    "pickle.dump(obj=red_model3, file=model_file)\n",
    "model_file.close()"
   ]
  },
  {
   "cell_type": "code",
   "execution_count": null,
   "metadata": {
    "execution": {
     "iopub.execute_input": "2021-12-08T08:50:26.471574Z",
     "iopub.status.busy": "2021-12-08T08:50:26.470717Z",
     "iopub.status.idle": "2021-12-08T08:50:26.482800Z",
     "shell.execute_reply": "2021-12-08T08:50:26.481831Z",
     "shell.execute_reply.started": "2021-12-08T08:50:26.471527Z"
    }
   },
   "outputs": [],
   "source": [
    "# reload the model from disk and check if it is saved properly.\n",
    "model_file = open('models/red_wine_model.pkl', 'rb')\n",
    "lr_model = pickle.load(model_file)\n",
    "model_file.close()\n",
    "print(lr_model)"
   ]
  },
  {
   "cell_type": "markdown",
   "metadata": {},
   "source": [
    "## Section 2 - White Wine Analysis, Model Creation and Saving\n",
    "We will follow the same steps as we did for Red Wine analysis."
   ]
  },
  {
   "cell_type": "code",
   "execution_count": null,
   "metadata": {
    "execution": {
     "iopub.execute_input": "2021-12-08T08:50:26.484637Z",
     "iopub.status.busy": "2021-12-08T08:50:26.484084Z",
     "iopub.status.idle": "2021-12-08T08:50:26.528525Z",
     "shell.execute_reply": "2021-12-08T08:50:26.527915Z",
     "shell.execute_reply.started": "2021-12-08T08:50:26.484600Z"
    }
   },
   "outputs": [],
   "source": [
    "# Read the white wine quality dataset\n",
    "white_wine_data = pd.read_csv('datasets/winequality-white.csv', delimiter = ';')\n",
    "white_wine_data.head()"
   ]
  },
  {
   "cell_type": "markdown",
   "metadata": {},
   "source": [
    "### Develop an ML Model as per the Pipeline\n",
    "Refer to the corresponding red wine section"
   ]
  },
  {
   "cell_type": "markdown",
   "metadata": {},
   "source": [
    "### Sanity Check"
   ]
  },
  {
   "cell_type": "code",
   "execution_count": null,
   "metadata": {
    "execution": {
     "iopub.execute_input": "2021-12-08T08:50:26.530062Z",
     "iopub.status.busy": "2021-12-08T08:50:26.529670Z",
     "iopub.status.idle": "2021-12-08T08:50:26.535275Z",
     "shell.execute_reply": "2021-12-08T08:50:26.534474Z",
     "shell.execute_reply.started": "2021-12-08T08:50:26.530017Z"
    }
   },
   "outputs": [],
   "source": [
    "# 1 Shape\n",
    "white_wine_data.shape"
   ]
  },
  {
   "cell_type": "code",
   "execution_count": null,
   "metadata": {
    "execution": {
     "iopub.execute_input": "2021-12-08T08:50:26.536891Z",
     "iopub.status.busy": "2021-12-08T08:50:26.536641Z",
     "iopub.status.idle": "2021-12-08T08:50:26.549641Z",
     "shell.execute_reply": "2021-12-08T08:50:26.548680Z",
     "shell.execute_reply.started": "2021-12-08T08:50:26.536861Z"
    }
   },
   "outputs": [],
   "source": [
    "# 2 Datatypes\n",
    "white_wine_data.dtypes"
   ]
  },
  {
   "cell_type": "code",
   "execution_count": null,
   "metadata": {
    "execution": {
     "iopub.execute_input": "2021-12-08T08:50:26.551353Z",
     "iopub.status.busy": "2021-12-08T08:50:26.550977Z",
     "iopub.status.idle": "2021-12-08T08:50:26.564520Z",
     "shell.execute_reply": "2021-12-08T08:50:26.563918Z",
     "shell.execute_reply.started": "2021-12-08T08:50:26.551307Z"
    }
   },
   "outputs": [],
   "source": [
    "# 3 Missing values\n",
    "white_wine_data.info()"
   ]
  },
  {
   "cell_type": "code",
   "execution_count": null,
   "metadata": {
    "execution": {
     "iopub.execute_input": "2021-12-08T08:50:26.575567Z",
     "iopub.status.busy": "2021-12-08T08:50:26.574723Z",
     "iopub.status.idle": "2021-12-08T08:50:26.596630Z",
     "shell.execute_reply": "2021-12-08T08:50:26.595710Z",
     "shell.execute_reply.started": "2021-12-08T08:50:26.575521Z"
    }
   },
   "outputs": [],
   "source": [
    "#4 zero variance column needs to be removed. \n",
    "for col in white_wine_data:\n",
    "    print(col, white_wine_data[col].value_counts().count())"
   ]
  },
  {
   "cell_type": "code",
   "execution_count": null,
   "metadata": {},
   "outputs": [],
   "source": [
    "# 5. Range of numbers in each column\n",
    "for i in white_wine_data.columns:\n",
    "    print(\"Range of {}: minimum {} & maximum {} \" .format(i, white_wine_data[i].min(), white_wine_data[i].max()))"
   ]
  },
  {
   "cell_type": "code",
   "execution_count": null,
   "metadata": {
    "execution": {
     "iopub.execute_input": "2021-12-08T08:50:26.598456Z",
     "iopub.status.busy": "2021-12-08T08:50:26.598191Z",
     "iopub.status.idle": "2021-12-08T08:50:26.625263Z",
     "shell.execute_reply": "2021-12-08T08:50:26.624417Z",
     "shell.execute_reply.started": "2021-12-08T08:50:26.598426Z"
    }
   },
   "outputs": [],
   "source": [
    "# 6 Relationship between features & the target\n",
    "white_wine_data.corr()"
   ]
  },
  {
   "cell_type": "code",
   "execution_count": null,
   "metadata": {
    "execution": {
     "iopub.execute_input": "2021-12-08T08:50:26.626873Z",
     "iopub.status.busy": "2021-12-08T08:50:26.626579Z",
     "iopub.status.idle": "2021-12-08T08:50:27.837291Z",
     "shell.execute_reply": "2021-12-08T08:50:27.836428Z",
     "shell.execute_reply.started": "2021-12-08T08:50:26.626843Z"
    }
   },
   "outputs": [],
   "source": [
    "plt.figure(figsize=(16, 6))\n",
    "sns.heatmap(white_wine_data.corr(), annot=True);"
   ]
  },
  {
   "cell_type": "code",
   "execution_count": null,
   "metadata": {},
   "outputs": [],
   "source": [
    "#7. Target: Check for discrete values\n",
    "white_wine_data['quality'].value_counts()"
   ]
  },
  {
   "cell_type": "markdown",
   "metadata": {},
   "source": [
    "### Insights / Sanity Check Conclusions\n",
    "\n",
    "\n",
    "1. **Shape and data sufficiency: Check if there are sufficient rows of data for an ML problem ---> (DONE)**\n",
    "    1. **INSIGHT:** Shape of the data is (4898, 12), which is much greater than number of columns (12). Hence we can apply ML techniques rather than statistical rule-based approach.\n",
    "\n",
    "\n",
    "2. **Datatypes: Check whether all the columns in the given dataset is numeric ---> (DONE)**\n",
    "    1. **INSIGHT:** `Dtype` indicates that all columns are numeric\n",
    "    \n",
    "\n",
    "3. **Missing Values: Check whether there are missing values ---->DONE**\n",
    "    1. **INSIGHT:** `Non-Null Count` indicates there are no missing values in the dataset\n",
    "\n",
    "\n",
    "4. **Zero-variance: Check if there are any zero variance column in the dataset ---> (DONE)**\n",
    "    1. **INSIGHT:** No zero-variance columns found in the dataset\n",
    "\n",
    "\n",
    "5. **Range of numbers in each column: Check if the column values within the dataset are in the same magnitude ---> (DONE)**\n",
    "    1. **INSIGHT:** Each column has numbers within the same magnitude\n",
    "\n",
    "\n",
    "6. **Correlation: Check correlation between feature columns & target -->DONE**\n",
    "\n",
    "    1. **INSIGHT:** The columns `fixed acidity`, `volatile acidity`, `citric acid`,`residual sugar`, `total sulphur dioxide`, `free sulphur dioxide`,`ph`,`sulphates` have very weak correlation (0.00 - 0.20)\n",
    "    2. **INSIGHT:** The columns `chlorides`, `density` have weak correlation (0.20 - 0.40)\n",
    "    3. ***Note:*** *absolute values of correlations were considered*\n",
    "\n",
    "\n",
    "7. **Other Observations:**\n",
    "    1. **INSIGHT:** Since (a) the target is given (b) target is continuous (number between 0..10), we can conclude that this is a supervised linear regression problem\n",
    "    2. **INSIGHT:** The target variable, i.e., `quality` has discrete values which indicates that this can be solved using classification methods also. However we will continue with Linear Regression in this exercise.\n"
   ]
  },
  {
   "cell_type": "markdown",
   "metadata": {},
   "source": [
    "## EDA/Preprocessing\n",
    "Refer to the EDA steps in the red wine analysis"
   ]
  },
  {
   "cell_type": "markdown",
   "metadata": {},
   "source": [
    "### Checklist of STANDARD EDA items\n",
    "\n",
    "1. Strategy for missing data\n",
    "    1. Action: No missing data, no action to be taken\n",
    "    \n",
    "    \n",
    "2. Convert categorical to numeric\n",
    "    1. Action: No Categorical data, no action to be taken\n",
    "    \n",
    "    \n",
    "3. Dimensionality reduction/Drop the identified columns\n",
    "    1. Action: Drop identified columns in Insights 6A and 6B\n",
    "    \n",
    "    \n",
    "4. Check for Outliers, Normalize data in columns to fit a range (*Optional*)\n",
    "    1. Action: As per Insights 5A there are no Outliers\n",
    "\n",
    "### White Wine Analysis Approach After Insights:\n",
    "We will follow a 3-step approach as outlined below:\n",
    "\n",
    "Step 1:\n",
    "1. First, we will process the complete dataset without dropping any columns.\n",
    "2. We will build the ML model with the complete data, test and validate the predictions.\n",
    "\n",
    "Step 2:\n",
    "1. As per Insights 6A, we will drop the columns that show very weak correlations. These columns are - `pH`, `free sulfur dioxide`, `residual sugar`\n",
    "2. The dataset will thus have 9 features (including target)\n",
    "3. We will build the ML model with the remaining data, test and validate the predictions\n",
    "\n",
    "Step 3:\n",
    "1. As per Insights 6B, we will next drop the columns that show weak correlations. These columns are - `fixed acidity`, `citric acid`, `chlorides`, `total sulfur dioxide`, `density`\n",
    "2. The dataset will thus have 4 features (including target)\n",
    "3. We will build the ML model with the remaining data, test and validate the predictions\n",
    "\n",
    "Step 4:\n",
    "1. Compare the Accuracy of all the three models developed\n",
    "2. Choose the best model for deployment\n"
   ]
  },
  {
   "cell_type": "markdown",
   "metadata": {},
   "source": [
    "#### Step 1:\n",
    "Build the ML model with the complete data, test and validate the predictions."
   ]
  },
  {
   "cell_type": "code",
   "execution_count": null,
   "metadata": {
    "execution": {
     "iopub.execute_input": "2021-12-08T08:50:27.838754Z",
     "iopub.status.busy": "2021-12-08T08:50:27.838498Z",
     "iopub.status.idle": "2021-12-08T08:50:27.844512Z",
     "shell.execute_reply": "2021-12-08T08:50:27.843703Z",
     "shell.execute_reply.started": "2021-12-08T08:50:27.838724Z"
    }
   },
   "outputs": [],
   "source": [
    "# create the \"features and target\" data sets\n",
    "X = white_wine_data.drop('quality',axis=1)\n",
    "y = white_wine_data['quality']\n",
    "\n",
    "# split the features and target data sets into train and test sets\n",
    "X_train, X_test, y_train, y_test = train_test_split(X, y, test_size=0.2, random_state=42)\n",
    "print('White Wine Model 1 train/test shapes:')\n",
    "print(X_train.shape, X_test.shape, y_train.shape, y_test.shape)"
   ]
  },
  {
   "cell_type": "code",
   "execution_count": null,
   "metadata": {
    "execution": {
     "iopub.execute_input": "2021-12-08T08:50:27.861459Z",
     "iopub.status.busy": "2021-12-08T08:50:27.860979Z",
     "iopub.status.idle": "2021-12-08T08:50:27.894872Z",
     "shell.execute_reply": "2021-12-08T08:50:27.893844Z",
     "shell.execute_reply.started": "2021-12-08T08:50:27.861416Z"
    }
   },
   "outputs": [],
   "source": [
    "# create and fit a linear regression model\n",
    "lm_white_wine1 = LinearRegression()\n",
    "white_model1 = lm_white_wine1.fit(X_train, y_train)\n",
    "\n",
    "# computing yhat (ie train_predictions) using X (ie train_features)\n",
    "train_predictions = lm_white_wine1.predict(X_train)\n",
    "train_prediction = [int(round(x,0)) for x in train_predictions]"
   ]
  },
  {
   "cell_type": "code",
   "execution_count": null,
   "metadata": {
    "execution": {
     "iopub.execute_input": "2021-12-08T08:50:27.896887Z",
     "iopub.status.busy": "2021-12-08T08:50:27.896395Z",
     "iopub.status.idle": "2021-12-08T08:50:27.920915Z",
     "shell.execute_reply": "2021-12-08T08:50:27.920022Z",
     "shell.execute_reply.started": "2021-12-08T08:50:27.896842Z"
    }
   },
   "outputs": [],
   "source": [
    "# compare actual and predicted values\n",
    "comp_matrix, mean = compare_prediction(y, train_prediction)\n",
    "print(\"White Wine Model 1 prediction comparison and mean error:\", comp_matrix, mean)\n",
    "\n",
    "accuracy1 = round((100-mean),2)\n",
    "print(\"White Wine Model 1 accuracy =\", accuracy1)"
   ]
  },
  {
   "cell_type": "markdown",
   "metadata": {},
   "source": [
    "#### Step 2: Drop columns showing very weak correlations (0.0 - 0.2)\n",
    "1. drop the columns `fixed acidity`, `volatile acidity`, `citric acid`,`residual sugar`, `total sulfur dioxide`, `free sulfur dioxide`,`pH`,`sulphates`\n",
    "2. Build the ML model, test and validate the predictions."
   ]
  },
  {
   "cell_type": "code",
   "execution_count": null,
   "metadata": {
    "execution": {
     "iopub.execute_input": "2021-12-08T08:50:27.942178Z",
     "iopub.status.busy": "2021-12-08T08:50:27.941574Z",
     "iopub.status.idle": "2021-12-08T08:50:27.962243Z",
     "shell.execute_reply": "2021-12-08T08:50:27.961363Z",
     "shell.execute_reply.started": "2021-12-08T08:50:27.942129Z"
    }
   },
   "outputs": [],
   "source": [
    "### 3. Dimensionality reduction/Drop the identified columns\n",
    "lst = ['fixed acidity', 'volatile acidity', 'citric acid','residual sugar',\n",
    "       'total sulfur dioxide', 'free sulfur dioxide','pH','sulphates']\n",
    "white_wine_data.drop(lst, axis=1,inplace=True)"
   ]
  },
  {
   "cell_type": "code",
   "execution_count": null,
   "metadata": {
    "execution": {
     "iopub.execute_input": "2021-12-08T08:50:27.971876Z",
     "iopub.status.busy": "2021-12-08T08:50:27.970378Z",
     "iopub.status.idle": "2021-12-08T08:50:27.984540Z",
     "shell.execute_reply": "2021-12-08T08:50:27.983537Z",
     "shell.execute_reply.started": "2021-12-08T08:50:27.971830Z"
    }
   },
   "outputs": [],
   "source": [
    "# create the \"features and target\" data sets\n",
    "X = white_wine_data.drop('quality',axis=1)\n",
    "y = white_wine_data['quality']\n",
    "\n",
    "# split the features and target data sets into train and test sets\n",
    "X_train, X_test, y_train, y_test = train_test_split(X, y, test_size=0.2, random_state=42)\n",
    "print('White Wine Model 2 train/test shapes:')\n",
    "print(X_train.shape, X_test.shape, y_train.shape, y_test.shape)"
   ]
  },
  {
   "cell_type": "code",
   "execution_count": null,
   "metadata": {
    "execution": {
     "iopub.execute_input": "2021-12-08T08:50:27.986666Z",
     "iopub.status.busy": "2021-12-08T08:50:27.986178Z",
     "iopub.status.idle": "2021-12-08T08:50:27.995202Z",
     "shell.execute_reply": "2021-12-08T08:50:27.994333Z",
     "shell.execute_reply.started": "2021-12-08T08:50:27.986623Z"
    }
   },
   "outputs": [],
   "source": [
    "# create and fit a linear regression model\n",
    "lm_white_wine2 = LinearRegression()\n",
    "white_model2 = lm_white_wine2.fit(X_train, y_train)\n",
    "\n",
    "# computing yhat (ie train_predictions) using X (ie train_features)\n",
    "train_predictions = lm_white_wine2.predict(X_train)\n",
    "train_prediction = [int(round(x,0)) for x in train_predictions]"
   ]
  },
  {
   "cell_type": "code",
   "execution_count": null,
   "metadata": {
    "execution": {
     "iopub.execute_input": "2021-12-08T08:50:28.031521Z",
     "iopub.status.busy": "2021-12-08T08:50:28.031089Z",
     "iopub.status.idle": "2021-12-08T08:50:28.065652Z",
     "shell.execute_reply": "2021-12-08T08:50:28.064389Z",
     "shell.execute_reply.started": "2021-12-08T08:50:28.031470Z"
    }
   },
   "outputs": [],
   "source": [
    "# compare actual and predicted values\n",
    "comp_matrix, mean = compare_prediction(y, train_prediction)\n",
    "print(\"White Wine Model 2 prediction comparison and mean error:\", comp_matrix, mean)\n",
    "\n",
    "accuracy2 = round((100-mean),2)\n",
    "print(\"White Wine Model 2 accuracy =\", accuracy2)"
   ]
  },
  {
   "cell_type": "markdown",
   "metadata": {},
   "source": [
    "#### Step 3: Drop columns showing weak correlations (0.2 - 0.4)\n",
    "1. Drop columns `chlorides` and `density`\n",
    "2. Build the ML model, test and validate the predictions.\n",
    "\n",
    "Note: we will be left with just 1 column - i.e., `alcohol` - this doesn't make sense, but let's continue nonetheless."
   ]
  },
  {
   "cell_type": "code",
   "execution_count": null,
   "metadata": {
    "execution": {
     "iopub.execute_input": "2021-12-08T08:50:28.094424Z",
     "iopub.status.busy": "2021-12-08T08:50:28.090950Z",
     "iopub.status.idle": "2021-12-08T08:50:28.111963Z",
     "shell.execute_reply": "2021-12-08T08:50:28.111035Z",
     "shell.execute_reply.started": "2021-12-08T08:50:28.094349Z"
    }
   },
   "outputs": [],
   "source": [
    "### 3. Dimensionality reduction/Drop the identified columns\n",
    "lst = ['chlorides', 'density']\n",
    "white_wine_data.drop(lst, axis=1,inplace=True)"
   ]
  },
  {
   "cell_type": "code",
   "execution_count": null,
   "metadata": {
    "execution": {
     "iopub.execute_input": "2021-12-08T08:50:28.121045Z",
     "iopub.status.busy": "2021-12-08T08:50:28.120470Z",
     "iopub.status.idle": "2021-12-08T08:50:28.130704Z",
     "shell.execute_reply": "2021-12-08T08:50:28.130061Z",
     "shell.execute_reply.started": "2021-12-08T08:50:28.121002Z"
    }
   },
   "outputs": [],
   "source": [
    "# create the \"features and target\" data sets\n",
    "X = white_wine_data.drop('quality',axis=1)\n",
    "y = white_wine_data['quality']\n",
    "\n",
    "# split the features and target data sets into train and test sets\n",
    "X_train, X_test, y_train, y_test = train_test_split(X, y, test_size=0.2, random_state=42)\n",
    "print(X_train.shape, X_test.shape, y_train.shape, y_test.shape)"
   ]
  },
  {
   "cell_type": "code",
   "execution_count": null,
   "metadata": {
    "execution": {
     "iopub.execute_input": "2021-12-08T08:50:28.147263Z",
     "iopub.status.busy": "2021-12-08T08:50:28.146756Z",
     "iopub.status.idle": "2021-12-08T08:50:28.155844Z",
     "shell.execute_reply": "2021-12-08T08:50:28.155012Z",
     "shell.execute_reply.started": "2021-12-08T08:50:28.147210Z"
    }
   },
   "outputs": [],
   "source": [
    "# create and fit a linear regression model\n",
    "lm_white_wine3 = LinearRegression()\n",
    "white_model3 = lm_white_wine3.fit(X_train, y_train)\n",
    "\n",
    "# computing yhat (ie train_predictions) using X (ie train_features)\n",
    "train_predictions = lm_white_wine3.predict(X_train)\n",
    "train_prediction = [int(round(x,0)) for x in train_predictions]"
   ]
  },
  {
   "cell_type": "code",
   "execution_count": null,
   "metadata": {},
   "outputs": [],
   "source": [
    "# compare actual and predicted values\n",
    "comp_matrix, mean = compare_prediction(y, train_prediction)\n",
    "print(\"White Wine Model 3 prediction comparison and mean error:\", comp_matrix, mean)\n",
    "\n",
    "accuracy3 = round((100-mean),2)\n",
    "print(\"White Wine Model 3 accuracy =\", accuracy3)"
   ]
  },
  {
   "cell_type": "markdown",
   "metadata": {},
   "source": [
    "#### Step 4:\n",
    "\n",
    "Compare the Accuracy of all the three models developed\n"
   ]
  },
  {
   "cell_type": "code",
   "execution_count": null,
   "metadata": {
    "execution": {
     "iopub.execute_input": "2021-12-08T08:50:28.207124Z",
     "iopub.status.busy": "2021-12-08T08:50:28.206091Z",
     "iopub.status.idle": "2021-12-08T08:50:28.216954Z",
     "shell.execute_reply": "2021-12-08T08:50:28.216109Z",
     "shell.execute_reply.started": "2021-12-08T08:50:28.207075Z"
    }
   },
   "outputs": [],
   "source": [
    "print(\"Model1 Accuracy {}\".format(accuracy1))\n",
    "print(\"Model2 Accuracy {}\".format(accuracy2))\n",
    "print(\"Model3 Accuracy {}\".format(accuracy3))"
   ]
  },
  {
   "cell_type": "markdown",
   "metadata": {},
   "source": [
    "#### Choose the best model for deployment.\n",
    "Model 3 predicts the quality using just 1 column - i.e., `alcohol` - this doesn't make sense. We will be conservative and choose Model 1 for the way forward."
   ]
  },
  {
   "cell_type": "markdown",
   "metadata": {},
   "source": [
    "### White Wine Model Saving"
   ]
  },
  {
   "cell_type": "code",
   "execution_count": null,
   "metadata": {
    "execution": {
     "iopub.execute_input": "2021-12-08T08:50:28.218351Z",
     "iopub.status.busy": "2021-12-08T08:50:28.218113Z",
     "iopub.status.idle": "2021-12-08T08:50:28.228611Z",
     "shell.execute_reply": "2021-12-08T08:50:28.227815Z",
     "shell.execute_reply.started": "2021-12-08T08:50:28.218323Z"
    }
   },
   "outputs": [],
   "source": [
    "# save white_model1 as per analysis\n",
    "model_file = open('models/white_wine_model.pkl','wb')\n",
    "pickle.dump(white_model1, model_file)\n",
    "model_file.close()"
   ]
  },
  {
   "cell_type": "code",
   "execution_count": null,
   "metadata": {
    "execution": {
     "iopub.execute_input": "2021-12-08T08:50:28.230271Z",
     "iopub.status.busy": "2021-12-08T08:50:28.230023Z",
     "iopub.status.idle": "2021-12-08T08:50:28.240793Z",
     "shell.execute_reply": "2021-12-08T08:50:28.239920Z",
     "shell.execute_reply.started": "2021-12-08T08:50:28.230241Z"
    }
   },
   "outputs": [],
   "source": [
    "# reload the model from disk and check if it is saved properly\n",
    "model_file = open('models/white_wine_model.pkl', 'rb')\n",
    "lr_model = pickle.load(model_file)\n",
    "model_file.close()\n",
    "print(lr_model)"
   ]
  }
 ],
 "metadata": {
  "kernelspec": {
   "display_name": "Python 3",
   "language": "python",
   "name": "python3"
  },
  "language_info": {
   "codemirror_mode": {
    "name": "ipython",
    "version": 3
   },
   "file_extension": ".py",
   "mimetype": "text/x-python",
   "name": "python",
   "nbconvert_exporter": "python",
   "pygments_lexer": "ipython3",
   "version": "3.8.5"
  }
 },
 "nbformat": 4,
 "nbformat_minor": 4
}
